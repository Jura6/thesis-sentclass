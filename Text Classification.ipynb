{
 "cells": [
  {
   "cell_type": "markdown",
   "id": "686dc886",
   "metadata": {},
   "source": [
    "# 1. Necessary Imports"
   ]
  },
  {
   "cell_type": "code",
   "execution_count": 1,
   "id": "713b6457",
   "metadata": {},
   "outputs": [],
   "source": [
    "import numpy as np\n",
    "import pandas as pd\n",
    "import matplotlib.pyplot as plt\n",
    "import seaborn as sns\n",
    "sns.set_palette('Set2')"
   ]
  },
  {
   "cell_type": "code",
   "execution_count": 2,
   "id": "8404fcb8",
   "metadata": {},
   "outputs": [],
   "source": [
    "import datetime as dt\n",
    "import dateutil\n",
    "import string"
   ]
  },
  {
   "cell_type": "code",
   "execution_count": 3,
   "id": "ed0e5dd3",
   "metadata": {},
   "outputs": [],
   "source": [
    "from sklearn.feature_extraction.text import CountVectorizer\n",
    "import nltk\n",
    "from nltk import tokenize, pos_tag\n",
    "from nltk.corpus import stopwords, wordnet\n",
    "from nltk.sentiment.vader import SentimentIntensityAnalyzer\n",
    "from nltk.stem import WordNetLemmatizer\n",
    "import importlib"
   ]
  },
  {
   "cell_type": "code",
   "execution_count": 4,
   "id": "471d53aa",
   "metadata": {
    "scrolled": true
   },
   "outputs": [
    {
     "data": {
      "text/html": [
       "<div>\n",
       "<style scoped>\n",
       "    .dataframe tbody tr th:only-of-type {\n",
       "        vertical-align: middle;\n",
       "    }\n",
       "\n",
       "    .dataframe tbody tr th {\n",
       "        vertical-align: top;\n",
       "    }\n",
       "\n",
       "    .dataframe thead th {\n",
       "        text-align: right;\n",
       "    }\n",
       "</style>\n",
       "<table border=\"1\" class=\"dataframe\">\n",
       "  <thead>\n",
       "    <tr style=\"text-align: right;\">\n",
       "      <th></th>\n",
       "      <th>Unnamed: 0</th>\n",
       "      <th>airline</th>\n",
       "      <th>review_score</th>\n",
       "      <th>traveller_type</th>\n",
       "      <th>cabin</th>\n",
       "      <th>seat_comfort</th>\n",
       "      <th>cabin_service</th>\n",
       "      <th>food_bev</th>\n",
       "      <th>entertainment</th>\n",
       "      <th>ground_service</th>\n",
       "      <th>...</th>\n",
       "      <th>review_date_month</th>\n",
       "      <th>review_date_year</th>\n",
       "      <th>date_flown_day</th>\n",
       "      <th>date_flown_month</th>\n",
       "      <th>date_flown_year</th>\n",
       "      <th>review_date_date_flown_distance_days</th>\n",
       "      <th>review_characters</th>\n",
       "      <th>pos_neu_neg_review_score</th>\n",
       "      <th>has_layover</th>\n",
       "      <th>recommended</th>\n",
       "    </tr>\n",
       "  </thead>\n",
       "  <tbody>\n",
       "    <tr>\n",
       "      <th>0</th>\n",
       "      <td>1</td>\n",
       "      <td>Turkish Airlines</td>\n",
       "      <td>7</td>\n",
       "      <td>Business</td>\n",
       "      <td>Economy Class</td>\n",
       "      <td>4</td>\n",
       "      <td>5</td>\n",
       "      <td>4</td>\n",
       "      <td>4</td>\n",
       "      <td>2</td>\n",
       "      <td>...</td>\n",
       "      <td>5</td>\n",
       "      <td>2019</td>\n",
       "      <td>1</td>\n",
       "      <td>5</td>\n",
       "      <td>2019</td>\n",
       "      <td>7</td>\n",
       "      <td>1094</td>\n",
       "      <td>pos</td>\n",
       "      <td>True</td>\n",
       "      <td>True</td>\n",
       "    </tr>\n",
       "    <tr>\n",
       "      <th>1</th>\n",
       "      <td>3</td>\n",
       "      <td>Turkish Airlines</td>\n",
       "      <td>2</td>\n",
       "      <td>Family Leisure</td>\n",
       "      <td>Economy Class</td>\n",
       "      <td>4</td>\n",
       "      <td>1</td>\n",
       "      <td>1</td>\n",
       "      <td>1</td>\n",
       "      <td>1</td>\n",
       "      <td>...</td>\n",
       "      <td>5</td>\n",
       "      <td>2019</td>\n",
       "      <td>1</td>\n",
       "      <td>5</td>\n",
       "      <td>2019</td>\n",
       "      <td>6</td>\n",
       "      <td>425</td>\n",
       "      <td>neg</td>\n",
       "      <td>False</td>\n",
       "      <td>False</td>\n",
       "    </tr>\n",
       "    <tr>\n",
       "      <th>2</th>\n",
       "      <td>5</td>\n",
       "      <td>Turkish Airlines</td>\n",
       "      <td>3</td>\n",
       "      <td>Business</td>\n",
       "      <td>Economy Class</td>\n",
       "      <td>1</td>\n",
       "      <td>4</td>\n",
       "      <td>1</td>\n",
       "      <td>3</td>\n",
       "      <td>1</td>\n",
       "      <td>...</td>\n",
       "      <td>5</td>\n",
       "      <td>2019</td>\n",
       "      <td>1</td>\n",
       "      <td>5</td>\n",
       "      <td>2019</td>\n",
       "      <td>6</td>\n",
       "      <td>1597</td>\n",
       "      <td>neg</td>\n",
       "      <td>True</td>\n",
       "      <td>False</td>\n",
       "    </tr>\n",
       "    <tr>\n",
       "      <th>3</th>\n",
       "      <td>7</td>\n",
       "      <td>Turkish Airlines</td>\n",
       "      <td>10</td>\n",
       "      <td>Solo Leisure</td>\n",
       "      <td>Economy Class</td>\n",
       "      <td>4</td>\n",
       "      <td>5</td>\n",
       "      <td>5</td>\n",
       "      <td>5</td>\n",
       "      <td>5</td>\n",
       "      <td>...</td>\n",
       "      <td>5</td>\n",
       "      <td>2019</td>\n",
       "      <td>8</td>\n",
       "      <td>4</td>\n",
       "      <td>2019</td>\n",
       "      <td>28</td>\n",
       "      <td>875</td>\n",
       "      <td>pos</td>\n",
       "      <td>False</td>\n",
       "      <td>True</td>\n",
       "    </tr>\n",
       "    <tr>\n",
       "      <th>4</th>\n",
       "      <td>9</td>\n",
       "      <td>Turkish Airlines</td>\n",
       "      <td>1</td>\n",
       "      <td>Solo Leisure</td>\n",
       "      <td>Economy Class</td>\n",
       "      <td>1</td>\n",
       "      <td>1</td>\n",
       "      <td>1</td>\n",
       "      <td>1</td>\n",
       "      <td>1</td>\n",
       "      <td>...</td>\n",
       "      <td>5</td>\n",
       "      <td>2019</td>\n",
       "      <td>1</td>\n",
       "      <td>5</td>\n",
       "      <td>2019</td>\n",
       "      <td>5</td>\n",
       "      <td>366</td>\n",
       "      <td>neg</td>\n",
       "      <td>True</td>\n",
       "      <td>False</td>\n",
       "    </tr>\n",
       "  </tbody>\n",
       "</table>\n",
       "<p>5 rows × 23 columns</p>\n",
       "</div>"
      ],
      "text/plain": [
       "   Unnamed: 0           airline  review_score  traveller_type          cabin  \\\n",
       "0           1  Turkish Airlines             7        Business  Economy Class   \n",
       "1           3  Turkish Airlines             2  Family Leisure  Economy Class   \n",
       "2           5  Turkish Airlines             3        Business  Economy Class   \n",
       "3           7  Turkish Airlines            10    Solo Leisure  Economy Class   \n",
       "4           9  Turkish Airlines             1    Solo Leisure  Economy Class   \n",
       "\n",
       "   seat_comfort  cabin_service  food_bev  entertainment  ground_service  ...  \\\n",
       "0             4              5         4              4               2  ...   \n",
       "1             4              1         1              1               1  ...   \n",
       "2             1              4         1              3               1  ...   \n",
       "3             4              5         5              5               5  ...   \n",
       "4             1              1         1              1               1  ...   \n",
       "\n",
       "   review_date_month review_date_year  date_flown_day  date_flown_month  \\\n",
       "0                  5             2019               1                 5   \n",
       "1                  5             2019               1                 5   \n",
       "2                  5             2019               1                 5   \n",
       "3                  5             2019               8                 4   \n",
       "4                  5             2019               1                 5   \n",
       "\n",
       "   date_flown_year  review_date_date_flown_distance_days  review_characters  \\\n",
       "0             2019                                     7               1094   \n",
       "1             2019                                     6                425   \n",
       "2             2019                                     6               1597   \n",
       "3             2019                                    28                875   \n",
       "4             2019                                     5                366   \n",
       "\n",
       "   pos_neu_neg_review_score  has_layover  recommended  \n",
       "0                       pos         True         True  \n",
       "1                       neg        False        False  \n",
       "2                       neg         True        False  \n",
       "3                       pos        False         True  \n",
       "4                       neg         True        False  \n",
       "\n",
       "[5 rows x 23 columns]"
      ]
     },
     "execution_count": 4,
     "metadata": {},
     "output_type": "execute_result"
    }
   ],
   "source": [
    "imp = pd.read_excel(r'C:\\Users\\mark7\\OneDrive\\Documenten\\Bachelor Project\\Skytrax DF Cleaned.xlsx')\n",
    "imp.head()"
   ]
  },
  {
   "cell_type": "markdown",
   "id": "b8d2c1d3",
   "metadata": {},
   "source": [
    "# 2 Prepare Data for Text Classification"
   ]
  },
  {
   "cell_type": "markdown",
   "id": "7298dc17",
   "metadata": {},
   "source": [
    "## 2.1 Create new DF with only 'airline', 'cabin' and 'review'"
   ]
  },
  {
   "cell_type": "code",
   "execution_count": 5,
   "id": "e63cd3e0",
   "metadata": {},
   "outputs": [
    {
     "data": {
      "text/html": [
       "<div>\n",
       "<style scoped>\n",
       "    .dataframe tbody tr th:only-of-type {\n",
       "        vertical-align: middle;\n",
       "    }\n",
       "\n",
       "    .dataframe tbody tr th {\n",
       "        vertical-align: top;\n",
       "    }\n",
       "\n",
       "    .dataframe thead th {\n",
       "        text-align: right;\n",
       "    }\n",
       "</style>\n",
       "<table border=\"1\" class=\"dataframe\">\n",
       "  <thead>\n",
       "    <tr style=\"text-align: right;\">\n",
       "      <th></th>\n",
       "      <th>airline</th>\n",
       "      <th>cabin</th>\n",
       "      <th>review_text</th>\n",
       "    </tr>\n",
       "  </thead>\n",
       "  <tbody>\n",
       "    <tr>\n",
       "      <th>0</th>\n",
       "      <td>Turkish Airlines</td>\n",
       "      <td>Economy Class</td>\n",
       "      <td>First time Iâ€™d flown TK. I found them very ...</td>\n",
       "    </tr>\n",
       "    <tr>\n",
       "      <th>1</th>\n",
       "      <td>Turkish Airlines</td>\n",
       "      <td>Economy Class</td>\n",
       "      <td>We make our check in in the airport, they Tak...</td>\n",
       "    </tr>\n",
       "    <tr>\n",
       "      <th>2</th>\n",
       "      <td>Turkish Airlines</td>\n",
       "      <td>Economy Class</td>\n",
       "      <td>I flew with this company several times in the...</td>\n",
       "    </tr>\n",
       "    <tr>\n",
       "      <th>3</th>\n",
       "      <td>Turkish Airlines</td>\n",
       "      <td>Economy Class</td>\n",
       "      <td>Turkish Airlines has consistently maintained ...</td>\n",
       "    </tr>\n",
       "    <tr>\n",
       "      <th>4</th>\n",
       "      <td>Turkish Airlines</td>\n",
       "      <td>Economy Class</td>\n",
       "      <td>Never book Turkish airlines if you are travel...</td>\n",
       "    </tr>\n",
       "  </tbody>\n",
       "</table>\n",
       "</div>"
      ],
      "text/plain": [
       "            airline          cabin  \\\n",
       "0  Turkish Airlines  Economy Class   \n",
       "1  Turkish Airlines  Economy Class   \n",
       "2  Turkish Airlines  Economy Class   \n",
       "3  Turkish Airlines  Economy Class   \n",
       "4  Turkish Airlines  Economy Class   \n",
       "\n",
       "                                         review_text  \n",
       "0   First time Iâ€™d flown TK. I found them very ...  \n",
       "1   We make our check in in the airport, they Tak...  \n",
       "2   I flew with this company several times in the...  \n",
       "3   Turkish Airlines has consistently maintained ...  \n",
       "4   Never book Turkish airlines if you are travel...  "
      ]
     },
     "execution_count": 5,
     "metadata": {},
     "output_type": "execute_result"
    }
   ],
   "source": [
    "df = imp[['airline', 'cabin', 'review_text']].copy()\n",
    "df.head()"
   ]
  },
  {
   "cell_type": "code",
   "execution_count": 6,
   "id": "83d4a12a",
   "metadata": {},
   "outputs": [
    {
     "data": {
      "text/plain": [
       "' First time Iâ€™d flown TK. I found them very good in the air, cabin crew, planes, food, all very nice. Not so great on the ground, ground staff, call centre, computer systems. My flight from LHR was delayed so I missed the connection in Istanbul. Most ground staff donâ€™t speak English, and I was given contradictory instructions from those that could speak a little English. I eventually got on a flight to Izmir three hours later, but it wasnâ€™t an easy process, made worse by the vast distances one has to walk between gates in the cavernous new airport. Also, Iâ€™d phoned a TK call centre (based in Ukraine) to pay an extra Â£40 or so each way for extra leg room seats. However, as the departure times kept changing, my seats kept changing, and for the return leg to London from Istanbul I was not given an extra leg room seat. Luckily there was a spare exit row seat and the cabin crew sorted me out. Overall, I think their cabin crew and planes are very good, ground staff and call centre staff need better training and they all need better computer systems and software to work with.'"
      ]
     },
     "execution_count": 6,
     "metadata": {},
     "output_type": "execute_result"
    }
   ],
   "source": [
    "df.iloc[0,2]"
   ]
  },
  {
   "cell_type": "code",
   "execution_count": 7,
   "id": "abf3df0a",
   "metadata": {},
   "outputs": [
    {
     "data": {
      "text/plain": [
       "airline        Qatar Airways\n",
       "cabin          Economy Class\n",
       "review_text              NaN\n",
       "Name: 1694, dtype: object"
      ]
     },
     "execution_count": 7,
     "metadata": {},
     "output_type": "execute_result"
    }
   ],
   "source": [
    "df.iloc[1694]"
   ]
  },
  {
   "cell_type": "markdown",
   "id": "9d501742",
   "metadata": {},
   "source": [
    "### 2.1.1 Get rid of empty values/NAs in the df"
   ]
  },
  {
   "cell_type": "code",
   "execution_count": 8,
   "id": "b7bd476b",
   "metadata": {},
   "outputs": [
    {
     "data": {
      "text/plain": [
       "22822"
      ]
     },
     "execution_count": 8,
     "metadata": {},
     "output_type": "execute_result"
    }
   ],
   "source": [
    "len(df)"
   ]
  },
  {
   "cell_type": "code",
   "execution_count": 9,
   "id": "f1102672",
   "metadata": {},
   "outputs": [],
   "source": [
    "df.dropna(subset=['review_text'], inplace=True)"
   ]
  },
  {
   "cell_type": "code",
   "execution_count": 10,
   "id": "3beb4af1",
   "metadata": {},
   "outputs": [
    {
     "data": {
      "text/plain": [
       "22817"
      ]
     },
     "execution_count": 10,
     "metadata": {},
     "output_type": "execute_result"
    }
   ],
   "source": [
    "len(df)"
   ]
  },
  {
   "cell_type": "code",
   "execution_count": 11,
   "id": "434e000c",
   "metadata": {},
   "outputs": [
    {
     "data": {
      "text/plain": [
       "airline        0\n",
       "cabin          0\n",
       "review_text    0\n",
       "dtype: int64"
      ]
     },
     "execution_count": 11,
     "metadata": {},
     "output_type": "execute_result"
    }
   ],
   "source": [
    "df.isnull().sum()"
   ]
  },
  {
   "cell_type": "markdown",
   "id": "3601ff58",
   "metadata": {},
   "source": [
    "### 2.1.2 Replace â€™ in sentences by \\'"
   ]
  },
  {
   "cell_type": "markdown",
   "id": "13929585",
   "metadata": {},
   "source": [
    "#### Also replace uÈ™ by you"
   ]
  },
  {
   "cell_type": "code",
   "execution_count": 12,
   "id": "d2695af7",
   "metadata": {},
   "outputs": [
    {
     "data": {
      "text/html": [
       "<div>\n",
       "<style scoped>\n",
       "    .dataframe tbody tr th:only-of-type {\n",
       "        vertical-align: middle;\n",
       "    }\n",
       "\n",
       "    .dataframe tbody tr th {\n",
       "        vertical-align: top;\n",
       "    }\n",
       "\n",
       "    .dataframe thead th {\n",
       "        text-align: right;\n",
       "    }\n",
       "</style>\n",
       "<table border=\"1\" class=\"dataframe\">\n",
       "  <thead>\n",
       "    <tr style=\"text-align: right;\">\n",
       "      <th></th>\n",
       "      <th>airline</th>\n",
       "      <th>cabin</th>\n",
       "      <th>review_text</th>\n",
       "    </tr>\n",
       "  </thead>\n",
       "  <tbody>\n",
       "    <tr>\n",
       "      <th>0</th>\n",
       "      <td>Turkish Airlines</td>\n",
       "      <td>Economy Class</td>\n",
       "      <td>First time Iâ€™d flown TK. I found them very ...</td>\n",
       "    </tr>\n",
       "  </tbody>\n",
       "</table>\n",
       "</div>"
      ],
      "text/plain": [
       "            airline          cabin  \\\n",
       "0  Turkish Airlines  Economy Class   \n",
       "\n",
       "                                         review_text  \n",
       "0   First time Iâ€™d flown TK. I found them very ...  "
      ]
     },
     "execution_count": 12,
     "metadata": {},
     "output_type": "execute_result"
    }
   ],
   "source": [
    "df.head(n=1)"
   ]
  },
  {
   "cell_type": "code",
   "execution_count": 13,
   "id": "7e6a2efb",
   "metadata": {},
   "outputs": [],
   "source": [
    "review_text_list = []\n",
    "for review in df['review_text']:\n",
    "    review_text_list.append(review.replace(\"â€™\", \"'\").replace(\"uÈ™\", \"you\"))"
   ]
  },
  {
   "cell_type": "code",
   "execution_count": 14,
   "id": "09eaf94f",
   "metadata": {},
   "outputs": [],
   "source": [
    "df['review_text'] = review_text_list"
   ]
  },
  {
   "cell_type": "code",
   "execution_count": 15,
   "id": "7e9de2ed",
   "metadata": {},
   "outputs": [
    {
     "data": {
      "text/html": [
       "<div>\n",
       "<style scoped>\n",
       "    .dataframe tbody tr th:only-of-type {\n",
       "        vertical-align: middle;\n",
       "    }\n",
       "\n",
       "    .dataframe tbody tr th {\n",
       "        vertical-align: top;\n",
       "    }\n",
       "\n",
       "    .dataframe thead th {\n",
       "        text-align: right;\n",
       "    }\n",
       "</style>\n",
       "<table border=\"1\" class=\"dataframe\">\n",
       "  <thead>\n",
       "    <tr style=\"text-align: right;\">\n",
       "      <th></th>\n",
       "      <th>airline</th>\n",
       "      <th>cabin</th>\n",
       "      <th>review_text</th>\n",
       "    </tr>\n",
       "  </thead>\n",
       "  <tbody>\n",
       "    <tr>\n",
       "      <th>0</th>\n",
       "      <td>Turkish Airlines</td>\n",
       "      <td>Economy Class</td>\n",
       "      <td>First time I'd flown TK. I found them very go...</td>\n",
       "    </tr>\n",
       "  </tbody>\n",
       "</table>\n",
       "</div>"
      ],
      "text/plain": [
       "            airline          cabin  \\\n",
       "0  Turkish Airlines  Economy Class   \n",
       "\n",
       "                                         review_text  \n",
       "0   First time I'd flown TK. I found them very go...  "
      ]
     },
     "execution_count": 15,
     "metadata": {},
     "output_type": "execute_result"
    }
   ],
   "source": [
    "df.head(n=1)"
   ]
  },
  {
   "cell_type": "markdown",
   "id": "9ecfca7f",
   "metadata": {},
   "source": [
    "## Desired Final Form of Review Data Frame:\n",
    "\n",
    "AIRLINE   —  CABIN  —  REVIEW SENTENCE    —   CLASSIFICATION   —  POLARITY  —  WEIGHT\n",
    "\n",
    "Turkish Airlines —  Economy Class  —  “First time I'd flown TK.”  —  Other  —  0.0033  —  0.1\n",
    "\n",
    "Turkish Airlines —  Economy Class  —  “I found them very good in the air, cabin crew, planes, food, all very nice.”  —  Food, Cabin Service  —  0.6897  —  0.1\n",
    "\n",
    "Turkish Airlines —  Economy Class  —  “Not so great on the ground, ground staff, call centre, computer systems.”  —  Ground Service  —  -0.3421  —  0.1"
   ]
  },
  {
   "cell_type": "markdown",
   "id": "6798cfae",
   "metadata": {},
   "source": [
    "## 2.2 Create df per sentence instead of per review\n",
    "\n",
    "1. Create test df (length = 5)\n",
    "2. Loop over each row, tokenize the review_text and store airline\n",
    "3. Use both lists to create the new df\n",
    " "
   ]
  },
  {
   "cell_type": "markdown",
   "id": "f77a73d1",
   "metadata": {},
   "source": [
    "### 2.2.1 Create test df"
   ]
  },
  {
   "cell_type": "code",
   "execution_count": 16,
   "id": "dbbdc798",
   "metadata": {},
   "outputs": [
    {
     "data": {
      "text/html": [
       "<div>\n",
       "<style scoped>\n",
       "    .dataframe tbody tr th:only-of-type {\n",
       "        vertical-align: middle;\n",
       "    }\n",
       "\n",
       "    .dataframe tbody tr th {\n",
       "        vertical-align: top;\n",
       "    }\n",
       "\n",
       "    .dataframe thead th {\n",
       "        text-align: right;\n",
       "    }\n",
       "</style>\n",
       "<table border=\"1\" class=\"dataframe\">\n",
       "  <thead>\n",
       "    <tr style=\"text-align: right;\">\n",
       "      <th></th>\n",
       "      <th>airline</th>\n",
       "      <th>cabin</th>\n",
       "      <th>review_text</th>\n",
       "    </tr>\n",
       "  </thead>\n",
       "  <tbody>\n",
       "    <tr>\n",
       "      <th>0</th>\n",
       "      <td>Turkish Airlines</td>\n",
       "      <td>Economy Class</td>\n",
       "      <td>First time I'd flown TK. I found them very go...</td>\n",
       "    </tr>\n",
       "    <tr>\n",
       "      <th>1400</th>\n",
       "      <td>Qatar Airways</td>\n",
       "      <td>Economy Class</td>\n",
       "      <td>Comfortable seats with plenty of legroom. Eve...</td>\n",
       "    </tr>\n",
       "    <tr>\n",
       "      <th>1901</th>\n",
       "      <td>Emirates</td>\n",
       "      <td>Economy Class</td>\n",
       "      <td>Almost missed the connecting flight, have to ...</td>\n",
       "    </tr>\n",
       "  </tbody>\n",
       "</table>\n",
       "</div>"
      ],
      "text/plain": [
       "               airline          cabin  \\\n",
       "0     Turkish Airlines  Economy Class   \n",
       "1400     Qatar Airways  Economy Class   \n",
       "1901          Emirates  Economy Class   \n",
       "\n",
       "                                            review_text  \n",
       "0      First time I'd flown TK. I found them very go...  \n",
       "1400   Comfortable seats with plenty of legroom. Eve...  \n",
       "1901   Almost missed the connecting flight, have to ...  "
      ]
     },
     "execution_count": 16,
     "metadata": {},
     "output_type": "execute_result"
    }
   ],
   "source": [
    "# Create test df\n",
    "test = df.iloc[[0, 1400, 1900],]\n",
    "test"
   ]
  },
  {
   "cell_type": "code",
   "execution_count": 17,
   "id": "239a5dff",
   "metadata": {},
   "outputs": [],
   "source": [
    "# Function to unlist nested lists\n",
    "def flatten(l):\n",
    "    return [item for sublist in l for item in sublist]"
   ]
  },
  {
   "cell_type": "code",
   "execution_count": 18,
   "id": "1e2f2fc6",
   "metadata": {},
   "outputs": [],
   "source": [
    "#tokenize.sent_tokenize(df.iloc[0,1])"
   ]
  },
  {
   "cell_type": "markdown",
   "id": "1270009a",
   "metadata": {},
   "source": [
    "### 2.2.2 Loop over each row and store values"
   ]
  },
  {
   "cell_type": "code",
   "execution_count": 19,
   "id": "2e0160a1",
   "metadata": {},
   "outputs": [],
   "source": [
    "# Loop over rows and tokenize\n",
    "sentence_list = []\n",
    "airline_list = []\n",
    "weight_list = []\n",
    "cabin_list = []\n",
    "\n",
    "for row in range(len(df)):\n",
    "    # How many sentences are in the list before adding the new review?\n",
    "    length_pre = len(sentence_list)\n",
    "    sentence_list.extend(tokenize.sent_tokenize(df.iloc[row, 2]))\n",
    "    # How many sentences are in the list after adding the new review?\n",
    "    length_post = len(sentence_list)\n",
    "    # How many sentences were added? I.e. How many times do we need to append the airline to the airline_list?\n",
    "    sen_added = length_post - length_pre\n",
    "    \n",
    "    # Append df.iloc[review, 0] to airline_list for sen_added times\n",
    "    count = 0\n",
    "    while count < sen_added:\n",
    "        airline_list.append(df.iloc[row, 0])\n",
    "        count += 1\n",
    "    \n",
    "        # Append weight 1/n(sentences in review) to weigth_list\n",
    "        weight_list.append(1/(sen_added))\n",
    "        \n",
    "        # Append cabin class to cabin_list\n",
    "        cabin_list.append(df.iloc[row, 1])\n",
    "        "
   ]
  },
  {
   "cell_type": "code",
   "execution_count": 20,
   "id": "5fc6724f",
   "metadata": {},
   "outputs": [],
   "source": [
    "#sentence_list[0:10], airline_list[0:10], weight_list[0:10], cabin_list[0:10]"
   ]
  },
  {
   "cell_type": "code",
   "execution_count": 21,
   "id": "6bbde506",
   "metadata": {},
   "outputs": [
    {
     "data": {
      "text/plain": [
       "(199465, 199465, 199465, 199465, 199449, 199465, 16)"
      ]
     },
     "execution_count": 21,
     "metadata": {},
     "output_type": "execute_result"
    }
   ],
   "source": [
    "len(sentence_list), len(airline_list), len(weight_list), len(cabin_list), length_pre, length_post, sen_added"
   ]
  },
  {
   "cell_type": "markdown",
   "id": "0d8cac6f",
   "metadata": {},
   "source": [
    "### 2.2.3 Create new df per sentence"
   ]
  },
  {
   "cell_type": "code",
   "execution_count": 22,
   "id": "8fde9eb8",
   "metadata": {},
   "outputs": [
    {
     "data": {
      "text/html": [
       "<div>\n",
       "<style scoped>\n",
       "    .dataframe tbody tr th:only-of-type {\n",
       "        vertical-align: middle;\n",
       "    }\n",
       "\n",
       "    .dataframe tbody tr th {\n",
       "        vertical-align: top;\n",
       "    }\n",
       "\n",
       "    .dataframe thead th {\n",
       "        text-align: right;\n",
       "    }\n",
       "</style>\n",
       "<table border=\"1\" class=\"dataframe\">\n",
       "  <thead>\n",
       "    <tr style=\"text-align: right;\">\n",
       "      <th></th>\n",
       "      <th>Airline</th>\n",
       "      <th>Cabin</th>\n",
       "      <th>Sentence</th>\n",
       "      <th>Weight</th>\n",
       "    </tr>\n",
       "  </thead>\n",
       "  <tbody>\n",
       "    <tr>\n",
       "      <th>0</th>\n",
       "      <td>Turkish Airlines</td>\n",
       "      <td>Economy Class</td>\n",
       "      <td>First time I'd flown TK.</td>\n",
       "      <td>0.100000</td>\n",
       "    </tr>\n",
       "    <tr>\n",
       "      <th>1</th>\n",
       "      <td>Turkish Airlines</td>\n",
       "      <td>Economy Class</td>\n",
       "      <td>I found them very good in the air, cabin crew,...</td>\n",
       "      <td>0.100000</td>\n",
       "    </tr>\n",
       "    <tr>\n",
       "      <th>2</th>\n",
       "      <td>Turkish Airlines</td>\n",
       "      <td>Economy Class</td>\n",
       "      <td>Not so great on the ground, ground staff, call...</td>\n",
       "      <td>0.100000</td>\n",
       "    </tr>\n",
       "    <tr>\n",
       "      <th>3</th>\n",
       "      <td>Turkish Airlines</td>\n",
       "      <td>Economy Class</td>\n",
       "      <td>My flight from LHR was delayed so I missed the...</td>\n",
       "      <td>0.100000</td>\n",
       "    </tr>\n",
       "    <tr>\n",
       "      <th>4</th>\n",
       "      <td>Turkish Airlines</td>\n",
       "      <td>Economy Class</td>\n",
       "      <td>Most ground staff don't speak English, and I w...</td>\n",
       "      <td>0.100000</td>\n",
       "    </tr>\n",
       "    <tr>\n",
       "      <th>5</th>\n",
       "      <td>Turkish Airlines</td>\n",
       "      <td>Economy Class</td>\n",
       "      <td>I eventually got on a flight to Izmir three ho...</td>\n",
       "      <td>0.100000</td>\n",
       "    </tr>\n",
       "    <tr>\n",
       "      <th>6</th>\n",
       "      <td>Turkish Airlines</td>\n",
       "      <td>Economy Class</td>\n",
       "      <td>Also, I'd phoned a TK call centre (based in Uk...</td>\n",
       "      <td>0.100000</td>\n",
       "    </tr>\n",
       "    <tr>\n",
       "      <th>7</th>\n",
       "      <td>Turkish Airlines</td>\n",
       "      <td>Economy Class</td>\n",
       "      <td>However, as the departure times kept changing,...</td>\n",
       "      <td>0.100000</td>\n",
       "    </tr>\n",
       "    <tr>\n",
       "      <th>8</th>\n",
       "      <td>Turkish Airlines</td>\n",
       "      <td>Economy Class</td>\n",
       "      <td>Luckily there was a spare exit row seat and th...</td>\n",
       "      <td>0.100000</td>\n",
       "    </tr>\n",
       "    <tr>\n",
       "      <th>9</th>\n",
       "      <td>Turkish Airlines</td>\n",
       "      <td>Economy Class</td>\n",
       "      <td>Overall, I think their cabin crew and planes a...</td>\n",
       "      <td>0.100000</td>\n",
       "    </tr>\n",
       "    <tr>\n",
       "      <th>10</th>\n",
       "      <td>Turkish Airlines</td>\n",
       "      <td>Economy Class</td>\n",
       "      <td>We make our check in in the airport, they Tak...</td>\n",
       "      <td>0.333333</td>\n",
       "    </tr>\n",
       "    <tr>\n",
       "      <th>11</th>\n",
       "      <td>Turkish Airlines</td>\n",
       "      <td>Economy Class</td>\n",
       "      <td>We had to wait in the airport with two childre...</td>\n",
       "      <td>0.333333</td>\n",
       "    </tr>\n",
       "    <tr>\n",
       "      <th>12</th>\n",
       "      <td>Turkish Airlines</td>\n",
       "      <td>Economy Class</td>\n",
       "      <td>Our first and last flight with this airline.</td>\n",
       "      <td>0.333333</td>\n",
       "    </tr>\n",
       "    <tr>\n",
       "      <th>13</th>\n",
       "      <td>Turkish Airlines</td>\n",
       "      <td>Economy Class</td>\n",
       "      <td>I flew with this company several times in the...</td>\n",
       "      <td>0.076923</td>\n",
       "    </tr>\n",
       "    <tr>\n",
       "      <th>14</th>\n",
       "      <td>Turkish Airlines</td>\n",
       "      <td>Economy Class</td>\n",
       "      <td>I flew from Rome to Prishtina via Istanbul, al...</td>\n",
       "      <td>0.076923</td>\n",
       "    </tr>\n",
       "    <tr>\n",
       "      <th>15</th>\n",
       "      <td>Turkish Airlines</td>\n",
       "      <td>Economy Class</td>\n",
       "      <td>The ground staff is for the most part useless.</td>\n",
       "      <td>0.076923</td>\n",
       "    </tr>\n",
       "    <tr>\n",
       "      <th>16</th>\n",
       "      <td>Turkish Airlines</td>\n",
       "      <td>Economy Class</td>\n",
       "      <td>In Istambul i have tried to ask a few informat...</td>\n",
       "      <td>0.076923</td>\n",
       "    </tr>\n",
       "    <tr>\n",
       "      <th>17</th>\n",
       "      <td>Turkish Airlines</td>\n",
       "      <td>Economy Class</td>\n",
       "      <td>The new airport is a gigantic mess, very big a...</td>\n",
       "      <td>0.076923</td>\n",
       "    </tr>\n",
       "    <tr>\n",
       "      <th>18</th>\n",
       "      <td>Turkish Airlines</td>\n",
       "      <td>Economy Class</td>\n",
       "      <td>When you land in Istanbul it takes about 20 to...</td>\n",
       "      <td>0.076923</td>\n",
       "    </tr>\n",
       "    <tr>\n",
       "      <th>19</th>\n",
       "      <td>Turkish Airlines</td>\n",
       "      <td>Economy Class</td>\n",
       "      <td>Forget about asking for some indication at the...</td>\n",
       "      <td>0.076923</td>\n",
       "    </tr>\n",
       "  </tbody>\n",
       "</table>\n",
       "</div>"
      ],
      "text/plain": [
       "             Airline          Cabin  \\\n",
       "0   Turkish Airlines  Economy Class   \n",
       "1   Turkish Airlines  Economy Class   \n",
       "2   Turkish Airlines  Economy Class   \n",
       "3   Turkish Airlines  Economy Class   \n",
       "4   Turkish Airlines  Economy Class   \n",
       "5   Turkish Airlines  Economy Class   \n",
       "6   Turkish Airlines  Economy Class   \n",
       "7   Turkish Airlines  Economy Class   \n",
       "8   Turkish Airlines  Economy Class   \n",
       "9   Turkish Airlines  Economy Class   \n",
       "10  Turkish Airlines  Economy Class   \n",
       "11  Turkish Airlines  Economy Class   \n",
       "12  Turkish Airlines  Economy Class   \n",
       "13  Turkish Airlines  Economy Class   \n",
       "14  Turkish Airlines  Economy Class   \n",
       "15  Turkish Airlines  Economy Class   \n",
       "16  Turkish Airlines  Economy Class   \n",
       "17  Turkish Airlines  Economy Class   \n",
       "18  Turkish Airlines  Economy Class   \n",
       "19  Turkish Airlines  Economy Class   \n",
       "\n",
       "                                             Sentence    Weight  \n",
       "0                            First time I'd flown TK.  0.100000  \n",
       "1   I found them very good in the air, cabin crew,...  0.100000  \n",
       "2   Not so great on the ground, ground staff, call...  0.100000  \n",
       "3   My flight from LHR was delayed so I missed the...  0.100000  \n",
       "4   Most ground staff don't speak English, and I w...  0.100000  \n",
       "5   I eventually got on a flight to Izmir three ho...  0.100000  \n",
       "6   Also, I'd phoned a TK call centre (based in Uk...  0.100000  \n",
       "7   However, as the departure times kept changing,...  0.100000  \n",
       "8   Luckily there was a spare exit row seat and th...  0.100000  \n",
       "9   Overall, I think their cabin crew and planes a...  0.100000  \n",
       "10   We make our check in in the airport, they Tak...  0.333333  \n",
       "11  We had to wait in the airport with two childre...  0.333333  \n",
       "12       Our first and last flight with this airline.  0.333333  \n",
       "13   I flew with this company several times in the...  0.076923  \n",
       "14  I flew from Rome to Prishtina via Istanbul, al...  0.076923  \n",
       "15     The ground staff is for the most part useless.  0.076923  \n",
       "16  In Istambul i have tried to ask a few informat...  0.076923  \n",
       "17  The new airport is a gigantic mess, very big a...  0.076923  \n",
       "18  When you land in Istanbul it takes about 20 to...  0.076923  \n",
       "19  Forget about asking for some indication at the...  0.076923  "
      ]
     },
     "execution_count": 22,
     "metadata": {},
     "output_type": "execute_result"
    }
   ],
   "source": [
    "sentences = pd.DataFrame(zip(airline_list, cabin_list, sentence_list, weight_list), columns=['Airline', 'Cabin', 'Sentence', 'Weight'])\n",
    "sentences.head(n=20)"
   ]
  },
  {
   "cell_type": "code",
   "execution_count": 23,
   "id": "88e7b9ae",
   "metadata": {},
   "outputs": [
    {
     "data": {
      "text/plain": [
       "199465"
      ]
     },
     "execution_count": 23,
     "metadata": {},
     "output_type": "execute_result"
    }
   ],
   "source": [
    "len(sentences)"
   ]
  },
  {
   "cell_type": "markdown",
   "id": "d5686d53",
   "metadata": {},
   "source": [
    "## Export current df to Excel"
   ]
  },
  {
   "cell_type": "code",
   "execution_count": 24,
   "id": "723871b5",
   "metadata": {},
   "outputs": [],
   "source": [
    "#sentences.to_excel(r\"C:\\Users\\mark7\\OneDrive\\Documenten\\Bachelor Project\\Text Classification DF.xlsx\")"
   ]
  },
  {
   "cell_type": "markdown",
   "id": "b6a5b46c",
   "metadata": {},
   "source": [
    "# 4 Trying out SpaCy & Working with sample data"
   ]
  },
  {
   "cell_type": "code",
   "execution_count": 25,
   "id": "6e9cf8fb",
   "metadata": {},
   "outputs": [],
   "source": [
    "import spacy\n",
    "import classy_classification"
   ]
  },
  {
   "cell_type": "code",
   "execution_count": 26,
   "id": "3ff45ac8",
   "metadata": {},
   "outputs": [
    {
     "data": {
      "text/plain": [
       "0                             First time I'd flown TK.\n",
       "1    I found them very good in the air, cabin crew,...\n",
       "2    Not so great on the ground, ground staff, call...\n",
       "3    My flight from LHR was delayed so I missed the...\n",
       "4    Most ground staff don't speak English, and I w...\n",
       "Name: Sentence, dtype: object"
      ]
     },
     "execution_count": 26,
     "metadata": {},
     "output_type": "execute_result"
    }
   ],
   "source": [
    "sents = sentences['Sentence']\n",
    "sents.head()"
   ]
  },
  {
   "cell_type": "code",
   "execution_count": 27,
   "id": "2a7d3d17",
   "metadata": {},
   "outputs": [],
   "source": [
    "# Data in the form of a dictionary\n",
    "\n",
    "#       Keys         Labels\n",
    "data = {\n",
    "    \"furniture\": [\"This text is about chairs.\",\n",
    "               \"Couches, benches and televisions.\",\n",
    "               \"I really need to get a new sofa.\"],\n",
    "    \"kitchen\": [\"There also exist things like fridges.\",\n",
    "                \"I hope to be getting a new stove today.\",\n",
    "                \"Do you also have some ovens.\"]\n",
    "}"
   ]
  },
  {
   "cell_type": "code",
   "execution_count": 28,
   "id": "d0162878",
   "metadata": {},
   "outputs": [
    {
     "data": {
      "text/plain": [
       "<classy_classification.classifiers.classy_spacy.ClassySpacyInternalFewShot at 0x188830dc3a0>"
      ]
     },
     "execution_count": 28,
     "metadata": {},
     "output_type": "execute_result"
    }
   ],
   "source": [
    "# see github repo for examples on sentence-transformers and Huggingface\n",
    "nlp = spacy.load('en_core_web_md')\n",
    "nlp.add_pipe(\"text_categorizer\", \n",
    "    config={\n",
    "        \"data\": data,\n",
    "        \"model\": \"spacy\"\n",
    "    }\n",
    ")"
   ]
  },
  {
   "cell_type": "code",
   "execution_count": 29,
   "id": "2997778f",
   "metadata": {},
   "outputs": [
    {
     "name": "stdout",
     "output_type": "stream",
     "text": [
      "{'furniture': 0.3863247890901644, 'kitchen': 0.6136752109098356}\n"
     ]
    }
   ],
   "source": [
    "print(nlp(\"I am looking for kitchen appliances.\")._.cats)"
   ]
  },
  {
   "cell_type": "markdown",
   "id": "a50466a3",
   "metadata": {},
   "source": [
    "#### Changing to a different language model"
   ]
  },
  {
   "cell_type": "code",
   "execution_count": 30,
   "id": "53a0e50c",
   "metadata": {},
   "outputs": [
    {
     "data": {
      "text/plain": [
       "<classy_classification.classifiers.classy_spacy.ClassySpacyExternalFewShot at 0x18888a1f0a0>"
      ]
     },
     "execution_count": 30,
     "metadata": {},
     "output_type": "execute_result"
    }
   ],
   "source": [
    "# Now using Huggingface\n",
    "nlp = spacy.blank('en')\n",
    "nlp.add_pipe(\"text_categorizer\", \n",
    "    config={\n",
    "        \"data\": data,\n",
    "        \"model\": \"sentence-transformers/paraphrase-multilingual-MiniLM-L12-v2\",\n",
    "        \"device\": \"gpu\"\n",
    "    }\n",
    ")"
   ]
  },
  {
   "cell_type": "markdown",
   "id": "e3dbb7b9",
   "metadata": {},
   "source": [
    "#### Big improvement"
   ]
  },
  {
   "cell_type": "code",
   "execution_count": 31,
   "id": "c7d59da3",
   "metadata": {},
   "outputs": [
    {
     "name": "stdout",
     "output_type": "stream",
     "text": [
      "{'furniture': 0.13374299813169885, 'kitchen': 0.866257001868301}\n"
     ]
    }
   ],
   "source": [
    "print(nlp(\"I am looking for kitchen appliances.\")._.cats)"
   ]
  },
  {
   "cell_type": "code",
   "execution_count": 32,
   "id": "eedaec4e",
   "metadata": {},
   "outputs": [
    {
     "name": "stdout",
     "output_type": "stream",
     "text": [
      "{'furniture': 0.2610803254989946, 'kitchen': 0.7389196745010053}\n"
     ]
    }
   ],
   "source": [
    "print(nlp(\"I cook meal-prep every four days.\")._.cats)"
   ]
  },
  {
   "cell_type": "markdown",
   "id": "96d4e56f",
   "metadata": {},
   "source": [
    "\n",
    "#### Trying on our sentences"
   ]
  },
  {
   "cell_type": "code",
   "execution_count": 33,
   "id": "4523b1df",
   "metadata": {},
   "outputs": [],
   "source": [
    "#sents[1:10]"
   ]
  },
  {
   "cell_type": "code",
   "execution_count": 34,
   "id": "c68bcd69",
   "metadata": {},
   "outputs": [],
   "source": [
    "data2 = {\n",
    "    \"seat comfort\": ['Legroom', 'Recline', 'Cushioning', 'Armrest', 'Headrest', 'Lumbar support', 'Seat width', 'Tray table', 'Adjustable seat', 'Seat pitch', 'Bulkhead seat', 'Exit row seat', 'Window seat', 'Aisle seat', 'Middle seat', 'Seat selection', 'Seat assignment', 'Seat upgrade', 'Seat configuration', 'Comfortable seating', 'Soft padding', 'Leg space', 'Ergonomic design', 'Ample space', 'Comfortable headrest'] ,\n",
    "    \"cabin service\" : ['Stewardess', 'Flight attendant', 'Cabin crew', 'In-flight service', 'Blanket', 'Pillow', 'Amenities kit', 'Eye mask', 'Noise-cancelling headphones', 'Warm towel', 'In-flight magazine', 'Safety demonstration', 'Emergency procedures', 'Cabin announcements', 'Passenger assistance', 'Cabin lighting', 'Cabin temperature', 'Cabin cleanliness', 'On-time performance', 'Safety', 'Emergency'],\n",
    "    \"food and beverages\": ['Meal service', 'Beverage service', 'Snack', 'Alcoholic drinks', 'Non-alcoholic drinks', 'Special meals', 'Vegetarian meal', 'Vegan meal', 'Gluten-free meal', 'Kosher meal', 'Halal meal', 'Gourmet meal', 'In-flight dining', 'In-flight bar', 'Meal tray', 'Disposable cutlery', 'Tableware', 'Menu options', 'Hot drinks', 'Cold drinks', 'Fresh', 'Stale', 'Disgusting', 'Dog food'],\n",
    "    \"in-flight entertainment\": ['Seatback screen', 'Audio selection', 'Video selection', 'TV shows', 'Movies', 'Documentaries', 'Games', 'Live TV', 'In-flight Wi-Fi', 'Power outlets', 'USB ports', 'Personal device entertainment', 'Headphone jack', 'Wireless streaming', 'In-flight map', 'Flight progress information', 'Destination information', 'Chess', 'Games', 'Display', \"Resolution\", 'Wifi', 'Internet', 'Mobile phone'],\n",
    "    \"ground service\": ['Delay', 'Cancelled', 'Wait', 'Airport', 'Hours', 'Ground service', 'ground', 'Ground staff', 'staff', 'Airport check-in', 'Baggage check-in', 'Baggage allowance', 'Baggage fees', 'Baggage claim', 'Lost luggage', 'Security screening', 'Boarding pass', 'Boarding gate', 'Priority boarding', 'Lounge access', 'Fast-track security', 'On-time departure', 'Connection assistance', 'Transportation to/from airport', 'Parking', 'Valet service'],\n",
    "    \"NA\": []\n",
    "}"
   ]
  },
  {
   "cell_type": "code",
   "execution_count": 35,
   "id": "13fe1b00",
   "metadata": {},
   "outputs": [
    {
     "data": {
      "text/plain": [
       "<classy_classification.classifiers.classy_spacy.ClassySpacyExternalFewShot at 0x18891fd7520>"
      ]
     },
     "execution_count": 35,
     "metadata": {},
     "output_type": "execute_result"
    }
   ],
   "source": [
    "nlp = spacy.blank('en')\n",
    "nlp.add_pipe(\"text_categorizer\", \n",
    "    config={\n",
    "        \"data\": data2,\n",
    "        \"model\": \"sentence-transformers/paraphrase-multilingual-MiniLM-L12-v2\",\n",
    "        \"device\": \"gpu\"\n",
    "    }\n",
    ")"
   ]
  },
  {
   "cell_type": "markdown",
   "id": "622d8b33",
   "metadata": {},
   "source": [
    "#### Not working great yet, maybe need more training data\n"
   ]
  },
  {
   "cell_type": "code",
   "execution_count": 36,
   "id": "076e4cf9",
   "metadata": {},
   "outputs": [],
   "source": [
    "tst = sentences.sample(n=10)"
   ]
  },
  {
   "cell_type": "code",
   "execution_count": 37,
   "id": "27a6cae6",
   "metadata": {},
   "outputs": [
    {
     "data": {
      "text/plain": [
       "['To top it up, my bags were delayed too.',\n",
       " 'Overall, an uneventful flight and average to above-average food and service.',\n",
       " 'Landed at Terminal 4.',\n",
       " ' This is a review of the flight SQ328 from Singapore to Munich on 10th February.',\n",
       " 'The food is fairly good.',\n",
       " 'Catering from Dubai to London, was OK, some sandwiches after take off which was early morning, were not particularly fresh, where as if you go back to the bar area the food there looked a lot more enticing (and fresh).',\n",
       " 'Would I fly Qantas again?',\n",
       " 'The crew was attentive, chatty and smiling.',\n",
       " 'Why do they fly such wrecks?',\n",
       " 'Flights on way out and in, both left on time.']"
      ]
     },
     "execution_count": 37,
     "metadata": {},
     "output_type": "execute_result"
    }
   ],
   "source": [
    "lst = []\n",
    "for i in tst['Sentence']:\n",
    "    lst.append(i)\n",
    "lst"
   ]
  },
  {
   "cell_type": "code",
   "execution_count": 38,
   "id": "7ffd10d5",
   "metadata": {},
   "outputs": [
    {
     "name": "stdout",
     "output_type": "stream",
     "text": [
      "To top it up, my bags were delayed too.\n",
      "food and beverages\n",
      "\n",
      "Overall, an uneventful flight and average to above-average food and service.\n",
      "seat comfort\n",
      "\n",
      "Landed at Terminal 4.\n",
      "food and beverages\n",
      "\n",
      " This is a review of the flight SQ328 from Singapore to Munich on 10th February.\n",
      "in-flight entertainment\n",
      "\n",
      "The food is fairly good.\n",
      "cabin service\n",
      "\n",
      "Catering from Dubai to London, was OK, some sandwiches after take off which was early morning, were not particularly fresh, where as if you go back to the bar area the food there looked a lot more enticing (and fresh).\n",
      "cabin service\n",
      "\n",
      "Would I fly Qantas again?\n",
      "seat comfort\n",
      "\n",
      "The crew was attentive, chatty and smiling.\n",
      "seat comfort\n",
      "\n",
      "Why do they fly such wrecks?\n",
      "cabin service\n",
      "\n",
      "Flights on way out and in, both left on time.\n",
      "food and beverages\n",
      "\n"
     ]
    }
   ],
   "source": [
    "for i in range(10):\n",
    "    print(lst[i])\n",
    "    print(max(nlp(lst[i])._.cats, key=nlp(lst[i])._.cats.get))\n",
    "    print(\"\")"
   ]
  },
  {
   "cell_type": "markdown",
   "id": "9ba2aba0",
   "metadata": {},
   "source": [
    "#### Still not great at all"
   ]
  },
  {
   "cell_type": "code",
   "execution_count": 39,
   "id": "00e5c9af",
   "metadata": {},
   "outputs": [
    {
     "data": {
      "text/plain": [
       "1    I found them very good in the air, cabin crew,...\n",
       "2    Not so great on the ground, ground staff, call...\n",
       "3    My flight from LHR was delayed so I missed the...\n",
       "4    Most ground staff don't speak English, and I w...\n",
       "5    I eventually got on a flight to Izmir three ho...\n",
       "6    Also, I'd phoned a TK call centre (based in Uk...\n",
       "7    However, as the departure times kept changing,...\n",
       "8    Luckily there was a spare exit row seat and th...\n",
       "9    Overall, I think their cabin crew and planes a...\n",
       "Name: Sentence, dtype: object"
      ]
     },
     "execution_count": 39,
     "metadata": {},
     "output_type": "execute_result"
    }
   ],
   "source": [
    "sentences['Sentence'][1:10]"
   ]
  },
  {
   "cell_type": "code",
   "execution_count": 40,
   "id": "ef818f1c",
   "metadata": {},
   "outputs": [],
   "source": [
    "sents_first_30 = sentences['Sentence'][0:30].tolist()\n",
    "#sents_first_30"
   ]
  },
  {
   "cell_type": "code",
   "execution_count": 41,
   "id": "a0c9850d",
   "metadata": {},
   "outputs": [],
   "source": [
    "labels = ['Cabin Service','Ground Service','Ground Service','Ground Service','Ground Service','N/A','Cabin Service','Cabin Service','Cabin Service','Ground Service','Ground Service','Ground Service','Ground Service','Ground Service','Ground Service','Ground Service','Seat Comfort','Food & Beverages','Cabin Service','Ground Service','N/A','Cabin Service','Seat Comfort','In-flight Entertainment','Cabin Service','Seat Comfort','N/A','Cabin Service','Seat Comfort','In-flight Entertainment']"
   ]
  },
  {
   "cell_type": "code",
   "execution_count": 42,
   "id": "bf8303b8",
   "metadata": {},
   "outputs": [],
   "source": [
    "sents_labels = pd.DataFrame(zip(sents_first_30, labels), columns=['Sentence', 'Label'])\n",
    "#sents_labels"
   ]
  },
  {
   "cell_type": "markdown",
   "id": "92d33efd",
   "metadata": {},
   "source": [
    "## 4.1 Continuing with Data Cleaning\n",
    "### Drop sentences with less than 15 chars"
   ]
  },
  {
   "cell_type": "code",
   "execution_count": 43,
   "id": "23260378",
   "metadata": {},
   "outputs": [],
   "source": [
    "sentences = sentences[[len(i) >= 15 for i in sentences['Sentence']]]\n",
    "#sentences.sample(20)"
   ]
  },
  {
   "cell_type": "code",
   "execution_count": 44,
   "id": "e16ae1d1",
   "metadata": {},
   "outputs": [
    {
     "data": {
      "text/plain": [
       "196902"
      ]
     },
     "execution_count": 44,
     "metadata": {},
     "output_type": "execute_result"
    }
   ],
   "source": [
    "len(sentences)"
   ]
  },
  {
   "cell_type": "markdown",
   "id": "d501f6ed",
   "metadata": {},
   "source": [
    "## 4.2.1 Manually Label 1000 sentences for training data"
   ]
  },
  {
   "cell_type": "code",
   "execution_count": 45,
   "id": "3bb84155",
   "metadata": {},
   "outputs": [],
   "source": [
    "sid = SentimentIntensityAnalyzer()"
   ]
  },
  {
   "cell_type": "code",
   "execution_count": 46,
   "id": "90108d93",
   "metadata": {},
   "outputs": [],
   "source": [
    "# sent_sample = pd.read_excel(r\"C:\\Users\\mark7\\OneDrive\\Documenten\\Bachelor Project\\Training Sample.xlsx\")"
   ]
  },
  {
   "cell_type": "code",
   "execution_count": 47,
   "id": "f158275c",
   "metadata": {},
   "outputs": [],
   "source": [
    "# sent_sample = sent_sample[['Airline', 'Cabin', 'Sentence', 'Weight', 'Topic']].copy()\n",
    "# sent_sample[583:596]"
   ]
  },
  {
   "cell_type": "markdown",
   "id": "61aa5d12",
   "metadata": {},
   "source": [
    "## 4.2.2 Adding polarity scores to labeled data"
   ]
  },
  {
   "cell_type": "code",
   "execution_count": 48,
   "id": "e2c6cafc",
   "metadata": {},
   "outputs": [],
   "source": [
    "# sentence_list = sent_sample['Sentence'].copy()\n",
    "#sentence_list.head(n=10)"
   ]
  },
  {
   "cell_type": "code",
   "execution_count": 49,
   "id": "e812d6c7",
   "metadata": {},
   "outputs": [],
   "source": [
    "# Augment the dataset with the overall polarity score of the review, as obtained using VADER on the review level.\n",
    "# sentence_polarity = []\n",
    "\n",
    "# for i_sen, sentence in enumerate(sentence_list):\n",
    "#     # print('Sentence text:')\n",
    "#     # print(sentence)\n",
    "\n",
    "#     sentence_polarity_scores = sid.polarity_scores(sentence)\n",
    "#     sentence_polarity_score_compound = sentence_polarity_scores['compound']\n",
    "    \n",
    "#     #Uncomment this to print the sentiment score of every review in the dataset.\n",
    "    \n",
    "#     # print('Review #{:d}: '.format(i_review), end='')\n",
    "#     #for key in sorted(review_polarity_scores.keys()):\n",
    "#         #print('{}: {:.4f}, '.format(key,review_polarity_scores[key]), end='')\n",
    "#     #print('')\n",
    "    \n",
    "#     sentence_polarity.append(sentence_polarity_score_compound)\n",
    "\n",
    "# print(sentence_polarity[1:10])"
   ]
  },
  {
   "cell_type": "code",
   "execution_count": 50,
   "id": "e5b62a15",
   "metadata": {},
   "outputs": [],
   "source": [
    "#for i in range(len(sentence_list)):\n",
    "    #print(sentence_list[i])\n",
    "    #print(sentence_polarity[i])\n",
    "    #print(\"\")"
   ]
  },
  {
   "cell_type": "code",
   "execution_count": 51,
   "id": "031e3f57",
   "metadata": {},
   "outputs": [],
   "source": [
    "# sent_sample['Polarity'] = sentence_polarity\n",
    "# sent_sample[314:325]"
   ]
  },
  {
   "cell_type": "code",
   "execution_count": 52,
   "id": "08a84519",
   "metadata": {},
   "outputs": [],
   "source": [
    "import matplotlib.pyplot as plt\n",
    "from matplotlib.ticker import StrMethodFormatter"
   ]
  },
  {
   "cell_type": "code",
   "execution_count": 53,
   "id": "8672e210",
   "metadata": {},
   "outputs": [],
   "source": [
    "# Plot Topic == 'Food and Beverages' ~ Polarity\n",
    "# fodbev = sent_sample[(sent_sample['Topic'] == 'Food and Beverages') & (sent_sample['Polarity'] != 0.0)]\n",
    "# inent = sent_sample[(sent_sample['Topic'] == 'In-Flight Entertainment') & (sent_sample['Polarity'] != 0.0)]\n",
    "# #fodbev.head(n=10)"
   ]
  },
  {
   "cell_type": "code",
   "execution_count": 54,
   "id": "2ec67e7a",
   "metadata": {},
   "outputs": [],
   "source": [
    "# sns.distplot(fodbev['Polarity'], bins=12, label = 'Food & Beverages', color='Orange').set(title='Polarity Distribution')\n",
    "# sns.distplot(inent['Polarity'], bins=12, label = 'Entertainment').set(title='Polarity Distribution')\n",
    "# plt.xlim(-1, 1)\n",
    "# plt.legend(title='Topic')"
   ]
  },
  {
   "cell_type": "markdown",
   "id": "f10bb184",
   "metadata": {},
   "source": [
    "## 4.2.3 Grouping by Topic"
   ]
  },
  {
   "cell_type": "code",
   "execution_count": 55,
   "id": "377019d3",
   "metadata": {},
   "outputs": [],
   "source": [
    "# sent_sample['Topic'] = sent_sample['Topic'].fillna('Other')\n",
    "# df = sent_sample[['Sentence', 'Topic']]\n",
    "# #df.head()"
   ]
  },
  {
   "cell_type": "code",
   "execution_count": 56,
   "id": "f0fe702e",
   "metadata": {},
   "outputs": [],
   "source": [
    "# food_bev = df[df['Topic'] == 'Food and Beverages']\n",
    "# cabin = df[df['Topic'] == 'Cabin Service']\n",
    "# ground = df[df['Topic'] == 'Ground Service']\n",
    "# entertain = df[df['Topic'] == 'In-Flight Entertainment']\n",
    "# seat = df[df['Topic'] == 'Seat Comfort']\n",
    "# other = df[df['Topic'] == 'Other']"
   ]
  },
  {
   "cell_type": "code",
   "execution_count": 57,
   "id": "82620b2e",
   "metadata": {},
   "outputs": [],
   "source": [
    "# grouped_sents = pd.concat([food_bev, cabin, ground, entertain, seat, other])\n",
    "# grouped_sents"
   ]
  },
  {
   "cell_type": "code",
   "execution_count": 58,
   "id": "8c3e3deb",
   "metadata": {},
   "outputs": [],
   "source": [
    "#grouped_sents.to_excel(r\"C:\\Users\\mark7\\OneDrive\\Documenten\\Bachelor Project\\Grouped Sentences.xlsx\")"
   ]
  },
  {
   "cell_type": "markdown",
   "id": "a633fc28",
   "metadata": {},
   "source": [
    "### Topic Distribution in sample set"
   ]
  },
  {
   "cell_type": "code",
   "execution_count": 59,
   "id": "a527cb24",
   "metadata": {},
   "outputs": [],
   "source": [
    "# print('Food and Beverages:      ' + str(len(grouped_sents[grouped_sents['Topic'] == 'Food and Beverages'])))\n",
    "# print('Cabin Service:           ' + str(len(grouped_sents[grouped_sents['Topic'] == 'Cabin Service'])))\n",
    "# print('Ground Service:          ' + str(len(grouped_sents[grouped_sents['Topic'] == 'Ground Service'])))\n",
    "# print('In-Flight Entertainment: ' + str(len(grouped_sents[grouped_sents['Topic'] == 'In-Flight Entertainment'])))\n",
    "# print('Seat Comfort:            ' + str(len(grouped_sents[grouped_sents['Topic'] == 'Seat Comfort'])))\n",
    "# print('Other:                   ' + str(len(grouped_sents[grouped_sents['Topic'] == 'Other'])))"
   ]
  },
  {
   "cell_type": "markdown",
   "id": "d3009bb3",
   "metadata": {},
   "source": [
    "# 5 Topic Classification with keywords"
   ]
  },
  {
   "cell_type": "markdown",
   "id": "8116f4eb",
   "metadata": {},
   "source": [
    "Spacy and Huggingface text classifiers did not work well with little training data, and while manually labeling a sample, I noticed that review sentences about the same topic contain many of the same (variation of) words. Thus, I think this could work better than continuing to try with models that need training data."
   ]
  },
  {
   "cell_type": "markdown",
   "id": "812d1734",
   "metadata": {},
   "source": [
    "## 5.1 Creating the keyword lists"
   ]
  },
  {
   "cell_type": "code",
   "execution_count": 60,
   "id": "01d71ab0",
   "metadata": {},
   "outputs": [],
   "source": [
    "IFE_keywords = ['entertainment', 'in-flight entertainment', 'in flight entertainment', 'inflight entertainment', \n",
    "                'IFE', 'screen', 'touch screen', 'display', 'wifi', 'wi-fi', 'film', 'movie', 'music', 'shows', \n",
    "                'earbud', 'headphone', 'headset', 'remote', 'audio']"
   ]
  },
  {
   "cell_type": "code",
   "execution_count": 61,
   "id": "826d560c",
   "metadata": {},
   "outputs": [],
   "source": [
    "FoodBev_keywords = ['food', 'meal', 'catering', 'drink', 'water', 'juice', 'beer', 'ice cream', 'cocktail', 'delicious', \n",
    "                    'disgusting', 'chicken', 'rice', 'fish', 'pasta', 'beef', 'lamb', 'vegetable', 'noodles', 'egg', 'meat', \n",
    "                    'diary', 'tomato', 'soda', 'booze', 'small portion', 'large portion', 'nuts', 'snack', 'packet', ' curry', \n",
    "                    'vegan', 'vegetarian', 'vegetable', 'cooked', 'gluten', 'wine', 'champagne', 'condiment', 'breakfast', \n",
    "                    'lunch', 'dinner', 'desert', 'alcohol', 'dining', 'bread', 'bagel', 'butter', 'tea', 'coffee', 'potato', 'baked', 'grilled'\n",
    "                    'whisky', 'whiskey', 'espresso', 'cappuccino', 'noodle', 'caviar', 'allergy', 'allergies', 'dietary']"
   ]
  },
  {
   "cell_type": "code",
   "execution_count": 62,
   "id": "840d1c39",
   "metadata": {},
   "outputs": [],
   "source": [
    "Cabin_keywords = ['staff', 'crew', 'cabin staff', 'cabin crew', 'cabin service', 'bathroom', 'restroom', 'toilet', 'hostess', \n",
    "                  'steward', 'onboard service', 'clean', 'cleaned', 'dirty', 'smell', 'flight staff', 'flight crew', \n",
    "                  'crew members', 'cockpit crew', 'pilot', 'attendant', 'interior', 'noisy', 'flight manager', \n",
    "                  'flight director', 'towel', 'aisle', 'cabin', 'personnel', 'storage', 'in-flight service', 'in flight service', \n",
    "                  'captain']"
   ]
  },
  {
   "cell_type": "code",
   "execution_count": 63,
   "id": "c8434a91",
   "metadata": {},
   "outputs": [],
   "source": [
    "Ground_keywords = ['reception', 'ground service', 'representative', 'boarding', 'kiosk', 'check-in', 'check in', \n",
    "                   'airline service', 'weight limit', 'weight allowance', 'counter', 'desk', 'terminal', 'wheelchair', \n",
    "                   'lounge', 'check-in machine', 'check in machine', 'check-in staff', 'check in staff', 'operator', \n",
    "                   'ground staff', 'ground crew', 'online booking', 'booking', 'customer service', 'email',\n",
    "                    'check-in online', 'online check-in']\n",
    "# rm: helpful, unhelpful"
   ]
  },
  {
   "cell_type": "code",
   "execution_count": 64,
   "id": "a6a1463e",
   "metadata": {},
   "outputs": [],
   "source": [
    "Seat_keywords = ['seat', 'seats', 'seat comfort', 'lie-flat', 'lie flat', 'seatbelt', 'comfort', 'uncomfort', 'economy seat', \n",
    "                 'spacious', 'sleep', 'leg space', 'leg room', 'legroom', 'legspace', 'pillow', 'blanket', 'footrest', \n",
    "                 'foot rest', 'legrest', 'leg rest', 'pitch', 'recline', 'headrest', 'head rest', 'padding', 'cushion', \n",
    "                 'flat bed', 'flatbed', '180 degree', 'upholstery']"
   ]
  },
  {
   "cell_type": "code",
   "execution_count": 65,
   "id": "2e26770c",
   "metadata": {},
   "outputs": [],
   "source": [
    "Other_keywords = ['hotel', 'taxi', 'weather', 'rain', 'storm', 'transfer', 'allocated', 'airport']"
   ]
  },
  {
   "cell_type": "markdown",
   "id": "75376ad1",
   "metadata": {},
   "source": [
    "To Be Decided = suitcase, baggage, duffel, luggage, backpack, delay, cancel"
   ]
  },
  {
   "cell_type": "markdown",
   "id": "57963cf9",
   "metadata": {},
   "source": [
    "## 5.2 Adding polarity scores to full data set"
   ]
  },
  {
   "cell_type": "code",
   "execution_count": 66,
   "id": "9fbf5326",
   "metadata": {},
   "outputs": [
    {
     "data": {
      "text/html": [
       "<div>\n",
       "<style scoped>\n",
       "    .dataframe tbody tr th:only-of-type {\n",
       "        vertical-align: middle;\n",
       "    }\n",
       "\n",
       "    .dataframe tbody tr th {\n",
       "        vertical-align: top;\n",
       "    }\n",
       "\n",
       "    .dataframe thead th {\n",
       "        text-align: right;\n",
       "    }\n",
       "</style>\n",
       "<table border=\"1\" class=\"dataframe\">\n",
       "  <thead>\n",
       "    <tr style=\"text-align: right;\">\n",
       "      <th></th>\n",
       "      <th>Airline</th>\n",
       "      <th>Cabin</th>\n",
       "      <th>Sentence</th>\n",
       "      <th>Weight</th>\n",
       "    </tr>\n",
       "  </thead>\n",
       "  <tbody>\n",
       "    <tr>\n",
       "      <th>0</th>\n",
       "      <td>Turkish Airlines</td>\n",
       "      <td>Economy Class</td>\n",
       "      <td>First time I'd flown TK.</td>\n",
       "      <td>0.1</td>\n",
       "    </tr>\n",
       "    <tr>\n",
       "      <th>1</th>\n",
       "      <td>Turkish Airlines</td>\n",
       "      <td>Economy Class</td>\n",
       "      <td>I found them very good in the air, cabin crew,...</td>\n",
       "      <td>0.1</td>\n",
       "    </tr>\n",
       "    <tr>\n",
       "      <th>2</th>\n",
       "      <td>Turkish Airlines</td>\n",
       "      <td>Economy Class</td>\n",
       "      <td>Not so great on the ground, ground staff, call...</td>\n",
       "      <td>0.1</td>\n",
       "    </tr>\n",
       "    <tr>\n",
       "      <th>3</th>\n",
       "      <td>Turkish Airlines</td>\n",
       "      <td>Economy Class</td>\n",
       "      <td>My flight from LHR was delayed so I missed the...</td>\n",
       "      <td>0.1</td>\n",
       "    </tr>\n",
       "    <tr>\n",
       "      <th>4</th>\n",
       "      <td>Turkish Airlines</td>\n",
       "      <td>Economy Class</td>\n",
       "      <td>Most ground staff don't speak English, and I w...</td>\n",
       "      <td>0.1</td>\n",
       "    </tr>\n",
       "  </tbody>\n",
       "</table>\n",
       "</div>"
      ],
      "text/plain": [
       "            Airline          Cabin  \\\n",
       "0  Turkish Airlines  Economy Class   \n",
       "1  Turkish Airlines  Economy Class   \n",
       "2  Turkish Airlines  Economy Class   \n",
       "3  Turkish Airlines  Economy Class   \n",
       "4  Turkish Airlines  Economy Class   \n",
       "\n",
       "                                            Sentence  Weight  \n",
       "0                           First time I'd flown TK.     0.1  \n",
       "1  I found them very good in the air, cabin crew,...     0.1  \n",
       "2  Not so great on the ground, ground staff, call...     0.1  \n",
       "3  My flight from LHR was delayed so I missed the...     0.1  \n",
       "4  Most ground staff don't speak English, and I w...     0.1  "
      ]
     },
     "execution_count": 66,
     "metadata": {},
     "output_type": "execute_result"
    }
   ],
   "source": [
    "sentences.head()"
   ]
  },
  {
   "cell_type": "code",
   "execution_count": 67,
   "id": "160539ed",
   "metadata": {},
   "outputs": [],
   "source": [
    "sentence_list = sentences['Sentence'].copy()\n",
    "#sentence_list.head(n=10)"
   ]
  },
  {
   "cell_type": "code",
   "execution_count": 68,
   "id": "8f26825d",
   "metadata": {},
   "outputs": [
    {
     "name": "stdout",
     "output_type": "stream",
     "text": [
      "[0.742, -0.544, -0.5812, -0.34, -0.8052, -0.1027, 0.0, 0.5106, 0.8399]\n"
     ]
    }
   ],
   "source": [
    "# Augment the dataset with the overall polarity score of the review, as obtained using VADER on the review level.\n",
    "sentence_polarity = []\n",
    "\n",
    "for i_sen, sentence in enumerate(sentence_list):\n",
    "    # print('Sentence text:')\n",
    "    # print(sentence)\n",
    "\n",
    "    sentence_polarity_scores = sid.polarity_scores(sentence)\n",
    "    sentence_polarity_score_compound = sentence_polarity_scores['compound']\n",
    "    \n",
    "    #Uncomment this to print the sentiment score of every review in the dataset.\n",
    "    \n",
    "    # print('Review #{:d}: '.format(i_review), end='')\n",
    "    #for key in sorted(review_polarity_scores.keys()):\n",
    "        #print('{}: {:.4f}, '.format(key,review_polarity_scores[key]), end='')\n",
    "    #print('')\n",
    "    \n",
    "    sentence_polarity.append(sentence_polarity_score_compound)\n",
    "\n",
    "print(sentence_polarity[1:10])"
   ]
  },
  {
   "cell_type": "code",
   "execution_count": 69,
   "id": "7a48883e",
   "metadata": {},
   "outputs": [],
   "source": [
    "sentences['Polarity'] = sentence_polarity"
   ]
  },
  {
   "cell_type": "code",
   "execution_count": 70,
   "id": "02eb4bd7",
   "metadata": {},
   "outputs": [],
   "source": [
    "#sentences.head()"
   ]
  },
  {
   "cell_type": "markdown",
   "id": "4793fd30",
   "metadata": {},
   "source": [
    "## 5.3 Make sentences lowercase"
   ]
  },
  {
   "cell_type": "code",
   "execution_count": 71,
   "id": "bf9e424f",
   "metadata": {},
   "outputs": [
    {
     "data": {
      "text/html": [
       "<div>\n",
       "<style scoped>\n",
       "    .dataframe tbody tr th:only-of-type {\n",
       "        vertical-align: middle;\n",
       "    }\n",
       "\n",
       "    .dataframe tbody tr th {\n",
       "        vertical-align: top;\n",
       "    }\n",
       "\n",
       "    .dataframe thead th {\n",
       "        text-align: right;\n",
       "    }\n",
       "</style>\n",
       "<table border=\"1\" class=\"dataframe\">\n",
       "  <thead>\n",
       "    <tr style=\"text-align: right;\">\n",
       "      <th></th>\n",
       "      <th>Airline</th>\n",
       "      <th>Cabin</th>\n",
       "      <th>Sentence</th>\n",
       "      <th>Weight</th>\n",
       "      <th>Polarity</th>\n",
       "    </tr>\n",
       "  </thead>\n",
       "  <tbody>\n",
       "    <tr>\n",
       "      <th>35071</th>\n",
       "      <td>American Airlines</td>\n",
       "      <td>Economy Class</td>\n",
       "      <td>our flight from mx was scheduled 5:50pm and 1 ...</td>\n",
       "      <td>0.142857</td>\n",
       "      <td>-0.2263</td>\n",
       "    </tr>\n",
       "    <tr>\n",
       "      <th>166698</th>\n",
       "      <td>Cathay Pacific Airways</td>\n",
       "      <td>Premium Economy</td>\n",
       "      <td>flight was delayed.</td>\n",
       "      <td>0.023256</td>\n",
       "      <td>-0.2263</td>\n",
       "    </tr>\n",
       "    <tr>\n",
       "      <th>67517</th>\n",
       "      <td>Aegean Airlines</td>\n",
       "      <td>Economy Class</td>\n",
       "      <td>lastly the food was very good and tasteful but...</td>\n",
       "      <td>0.250000</td>\n",
       "      <td>0.2724</td>\n",
       "    </tr>\n",
       "    <tr>\n",
       "      <th>43262</th>\n",
       "      <td>American Airlines</td>\n",
       "      <td>Economy Class</td>\n",
       "      <td>if we were not young and in relatively good sh...</td>\n",
       "      <td>0.058824</td>\n",
       "      <td>0.7096</td>\n",
       "    </tr>\n",
       "    <tr>\n",
       "      <th>5288</th>\n",
       "      <td>Turkish Airlines</td>\n",
       "      <td>Economy Class</td>\n",
       "      <td>for longer flights, they provide a little pouc...</td>\n",
       "      <td>0.111111</td>\n",
       "      <td>0.3612</td>\n",
       "    </tr>\n",
       "    <tr>\n",
       "      <th>188349</th>\n",
       "      <td>Aer Lingus</td>\n",
       "      <td>Economy Class</td>\n",
       "      <td>the check in attendant indicated that we had p...</td>\n",
       "      <td>0.100000</td>\n",
       "      <td>0.0000</td>\n",
       "    </tr>\n",
       "    <tr>\n",
       "      <th>37308</th>\n",
       "      <td>American Airlines</td>\n",
       "      <td>Business Class</td>\n",
       "      <td>the aircraft was clean, bright and spacious.</td>\n",
       "      <td>0.071429</td>\n",
       "      <td>0.6808</td>\n",
       "    </tr>\n",
       "    <tr>\n",
       "      <th>2824</th>\n",
       "      <td>Turkish Airlines</td>\n",
       "      <td>Economy Class</td>\n",
       "      <td>it doesn't fit to my legs and my legs hurt bec...</td>\n",
       "      <td>0.142857</td>\n",
       "      <td>-0.6715</td>\n",
       "    </tr>\n",
       "    <tr>\n",
       "      <th>55528</th>\n",
       "      <td>United Airlines</td>\n",
       "      <td>Business Class</td>\n",
       "      <td>i have to wonder what the state of the mechani...</td>\n",
       "      <td>0.050000</td>\n",
       "      <td>-0.4572</td>\n",
       "    </tr>\n",
       "    <tr>\n",
       "      <th>44214</th>\n",
       "      <td>American Airlines</td>\n",
       "      <td>First Class</td>\n",
       "      <td>i didn't even bother using the ear buds at my ...</td>\n",
       "      <td>0.142857</td>\n",
       "      <td>0.2584</td>\n",
       "    </tr>\n",
       "  </tbody>\n",
       "</table>\n",
       "</div>"
      ],
      "text/plain": [
       "                       Airline            Cabin  \\\n",
       "35071        American Airlines    Economy Class   \n",
       "166698  Cathay Pacific Airways  Premium Economy   \n",
       "67517          Aegean Airlines    Economy Class   \n",
       "43262        American Airlines    Economy Class   \n",
       "5288          Turkish Airlines    Economy Class   \n",
       "188349              Aer Lingus    Economy Class   \n",
       "37308        American Airlines   Business Class   \n",
       "2824          Turkish Airlines    Economy Class   \n",
       "55528          United Airlines   Business Class   \n",
       "44214        American Airlines      First Class   \n",
       "\n",
       "                                                 Sentence    Weight  Polarity  \n",
       "35071   our flight from mx was scheduled 5:50pm and 1 ...  0.142857   -0.2263  \n",
       "166698                                flight was delayed.  0.023256   -0.2263  \n",
       "67517   lastly the food was very good and tasteful but...  0.250000    0.2724  \n",
       "43262   if we were not young and in relatively good sh...  0.058824    0.7096  \n",
       "5288    for longer flights, they provide a little pouc...  0.111111    0.3612  \n",
       "188349  the check in attendant indicated that we had p...  0.100000    0.0000  \n",
       "37308        the aircraft was clean, bright and spacious.  0.071429    0.6808  \n",
       "2824    it doesn't fit to my legs and my legs hurt bec...  0.142857   -0.6715  \n",
       "55528   i have to wonder what the state of the mechani...  0.050000   -0.4572  \n",
       "44214   i didn't even bother using the ear buds at my ...  0.142857    0.2584  "
      ]
     },
     "execution_count": 71,
     "metadata": {},
     "output_type": "execute_result"
    }
   ],
   "source": [
    "sentences['Sentence'] = sentences['Sentence'].str.lower()\n",
    "sentences.sample(10)"
   ]
  },
  {
   "cell_type": "markdown",
   "id": "78e5bfa1",
   "metadata": {},
   "source": [
    "## 5.4 Topic Classification"
   ]
  },
  {
   "cell_type": "code",
   "execution_count": 72,
   "id": "e54197d2",
   "metadata": {},
   "outputs": [],
   "source": [
    "# Create test df \n",
    "test_sents = sentences.sample(100)"
   ]
  },
  {
   "cell_type": "code",
   "execution_count": 73,
   "id": "e2684f4a",
   "metadata": {},
   "outputs": [],
   "source": [
    "sentences = sentences.reset_index(drop=True)\n",
    "#sentences.head()"
   ]
  },
  {
   "cell_type": "code",
   "execution_count": 74,
   "id": "ded67ec3",
   "metadata": {},
   "outputs": [],
   "source": [
    "test_sents = test_sents.reset_index(drop=True)\n",
    "#test_sents.head()"
   ]
  },
  {
   "cell_type": "markdown",
   "id": "09e218c8",
   "metadata": {},
   "source": [
    "#### Make columns for each label and give each row 0s by default here.\n",
    "#### Then, if a word in the sentence appears in the list IFE_keywords, then the In-Flight Entertainment column for that row becomes 1"
   ]
  },
  {
   "cell_type": "markdown",
   "id": "22f4264d",
   "metadata": {},
   "source": [
    "## 5.4.1 Testing"
   ]
  },
  {
   "cell_type": "code",
   "execution_count": 75,
   "id": "44896b1e",
   "metadata": {},
   "outputs": [],
   "source": [
    "# test_sents['In-Flight Entertainment'] = 0\n",
    "# test_sents['Food and Beverages'] = 0\n",
    "# test_sents['Cabin Service'] = 0\n",
    "# test_sents['Ground Service'] = 0\n",
    "# test_sents['Seat Comfort'] = 0\n",
    "# test_sents['Other'] = 0\n",
    "# test_sents.head()"
   ]
  },
  {
   "cell_type": "code",
   "execution_count": 76,
   "id": "8781576e",
   "metadata": {},
   "outputs": [],
   "source": [
    "# for i in range(len(test_sents)):\n",
    "#     if any(substring in test_sents['Sentence'][i] for substring in Other_keywords):\n",
    "#         test_sents['Other'][i] = 1\n",
    "#         continue\n",
    "    \n",
    "#     if any(substring in test_sents['Sentence'][i] for substring in IFE_keywords):\n",
    "#         test_sents['In-Flight Entertainment'][i] = 1\n",
    "        \n",
    "#     if any(substring in test_sents['Sentence'][i] for substring in FoodBev_keywords):\n",
    "#         test_sents['Food and Beverages'][i] = 1\n",
    "        \n",
    "#     if any(substring in test_sents['Sentence'][i] for substring in Seat_keywords):\n",
    "#         test_sents['Seat Comfort'][i] = 1\n",
    "     \n",
    "#     if any(substring in test_sents['Sentence'][i] for substring in Ground_keywords):\n",
    "#         test_sents['Ground Service'][i] = 1\n",
    "#         continue # If 1 assigned to ground service, skip cabin service (because 'staff' and 'crew' keywords)\n",
    "    \n",
    "#     if any(substring in test_sents['Sentence'][i] for substring in Cabin_keywords):\n",
    "#         test_sents['Cabin Service'][i] = 1\n",
    "    \n",
    "#     elif (test_sents['In-Flight Entertainment'][i] + test_sents['Food and Beverages'][i] + test_sents['Cabin Service'][i] + test_sents['Ground Service'][i] + test_sents['Seat Comfort'][i]) == 0:\n",
    "#         test_sents['Other'][i] = 1\n",
    "    \n",
    "# replace the 5 if's with elif's to limit topic to 1 per sentence\n"
   ]
  },
  {
   "cell_type": "code",
   "execution_count": 77,
   "id": "c9c1de8b",
   "metadata": {
    "scrolled": true
   },
   "outputs": [],
   "source": [
    "# test_sents[20:25]"
   ]
  },
  {
   "cell_type": "code",
   "execution_count": 78,
   "id": "1bff9d25",
   "metadata": {},
   "outputs": [],
   "source": [
    "# Accuracy_Test = test_sents[['Sentence', 'Polarity', 'In-Flight Entertainment', 'Food and Beverages', 'Cabin Service', 'Ground Service', 'Seat Comfort', 'Other']].copy()\n",
    "# Accuracy_Test.head()"
   ]
  },
  {
   "cell_type": "code",
   "execution_count": 79,
   "id": "0b17cf13",
   "metadata": {},
   "outputs": [],
   "source": [
    "#Accuracy_Test.to_excel(r\"C:\\Users\\mark7\\OneDrive\\Documenten\\Bachelor Project\\Training Sample Accuracy Test.xlsx\")"
   ]
  },
  {
   "cell_type": "markdown",
   "id": "8ab44031",
   "metadata": {},
   "source": [
    "## Topic Classification Accuracy: 83.67%\n",
    "##\n",
    "##"
   ]
  },
  {
   "cell_type": "markdown",
   "id": "53fa337d",
   "metadata": {},
   "source": [
    "## 5.4.2 Classify Actual Data"
   ]
  },
  {
   "cell_type": "code",
   "execution_count": 80,
   "id": "a3973920",
   "metadata": {},
   "outputs": [
    {
     "data": {
      "text/html": [
       "<div>\n",
       "<style scoped>\n",
       "    .dataframe tbody tr th:only-of-type {\n",
       "        vertical-align: middle;\n",
       "    }\n",
       "\n",
       "    .dataframe tbody tr th {\n",
       "        vertical-align: top;\n",
       "    }\n",
       "\n",
       "    .dataframe thead th {\n",
       "        text-align: right;\n",
       "    }\n",
       "</style>\n",
       "<table border=\"1\" class=\"dataframe\">\n",
       "  <thead>\n",
       "    <tr style=\"text-align: right;\">\n",
       "      <th></th>\n",
       "      <th>Airline</th>\n",
       "      <th>Cabin</th>\n",
       "      <th>Sentence</th>\n",
       "      <th>Weight</th>\n",
       "      <th>Polarity</th>\n",
       "      <th>In-Flight Entertainment</th>\n",
       "      <th>Food and Beverages</th>\n",
       "      <th>Cabin Service</th>\n",
       "      <th>Ground Service</th>\n",
       "      <th>Seat Comfort</th>\n",
       "      <th>Other</th>\n",
       "    </tr>\n",
       "  </thead>\n",
       "  <tbody>\n",
       "    <tr>\n",
       "      <th>0</th>\n",
       "      <td>Turkish Airlines</td>\n",
       "      <td>Economy Class</td>\n",
       "      <td>first time i'd flown tk.</td>\n",
       "      <td>0.1</td>\n",
       "      <td>0.0000</td>\n",
       "      <td>0</td>\n",
       "      <td>0</td>\n",
       "      <td>0</td>\n",
       "      <td>0</td>\n",
       "      <td>0</td>\n",
       "      <td>0</td>\n",
       "    </tr>\n",
       "    <tr>\n",
       "      <th>1</th>\n",
       "      <td>Turkish Airlines</td>\n",
       "      <td>Economy Class</td>\n",
       "      <td>i found them very good in the air, cabin crew,...</td>\n",
       "      <td>0.1</td>\n",
       "      <td>0.7420</td>\n",
       "      <td>0</td>\n",
       "      <td>0</td>\n",
       "      <td>0</td>\n",
       "      <td>0</td>\n",
       "      <td>0</td>\n",
       "      <td>0</td>\n",
       "    </tr>\n",
       "    <tr>\n",
       "      <th>2</th>\n",
       "      <td>Turkish Airlines</td>\n",
       "      <td>Economy Class</td>\n",
       "      <td>not so great on the ground, ground staff, call...</td>\n",
       "      <td>0.1</td>\n",
       "      <td>-0.5440</td>\n",
       "      <td>0</td>\n",
       "      <td>0</td>\n",
       "      <td>0</td>\n",
       "      <td>0</td>\n",
       "      <td>0</td>\n",
       "      <td>0</td>\n",
       "    </tr>\n",
       "    <tr>\n",
       "      <th>3</th>\n",
       "      <td>Turkish Airlines</td>\n",
       "      <td>Economy Class</td>\n",
       "      <td>my flight from lhr was delayed so i missed the...</td>\n",
       "      <td>0.1</td>\n",
       "      <td>-0.5812</td>\n",
       "      <td>0</td>\n",
       "      <td>0</td>\n",
       "      <td>0</td>\n",
       "      <td>0</td>\n",
       "      <td>0</td>\n",
       "      <td>0</td>\n",
       "    </tr>\n",
       "    <tr>\n",
       "      <th>4</th>\n",
       "      <td>Turkish Airlines</td>\n",
       "      <td>Economy Class</td>\n",
       "      <td>most ground staff don't speak english, and i w...</td>\n",
       "      <td>0.1</td>\n",
       "      <td>-0.3400</td>\n",
       "      <td>0</td>\n",
       "      <td>0</td>\n",
       "      <td>0</td>\n",
       "      <td>0</td>\n",
       "      <td>0</td>\n",
       "      <td>0</td>\n",
       "    </tr>\n",
       "  </tbody>\n",
       "</table>\n",
       "</div>"
      ],
      "text/plain": [
       "            Airline          Cabin  \\\n",
       "0  Turkish Airlines  Economy Class   \n",
       "1  Turkish Airlines  Economy Class   \n",
       "2  Turkish Airlines  Economy Class   \n",
       "3  Turkish Airlines  Economy Class   \n",
       "4  Turkish Airlines  Economy Class   \n",
       "\n",
       "                                            Sentence  Weight  Polarity  \\\n",
       "0                           first time i'd flown tk.     0.1    0.0000   \n",
       "1  i found them very good in the air, cabin crew,...     0.1    0.7420   \n",
       "2  not so great on the ground, ground staff, call...     0.1   -0.5440   \n",
       "3  my flight from lhr was delayed so i missed the...     0.1   -0.5812   \n",
       "4  most ground staff don't speak english, and i w...     0.1   -0.3400   \n",
       "\n",
       "   In-Flight Entertainment  Food and Beverages  Cabin Service  Ground Service  \\\n",
       "0                        0                   0              0               0   \n",
       "1                        0                   0              0               0   \n",
       "2                        0                   0              0               0   \n",
       "3                        0                   0              0               0   \n",
       "4                        0                   0              0               0   \n",
       "\n",
       "   Seat Comfort  Other  \n",
       "0             0      0  \n",
       "1             0      0  \n",
       "2             0      0  \n",
       "3             0      0  \n",
       "4             0      0  "
      ]
     },
     "execution_count": 80,
     "metadata": {},
     "output_type": "execute_result"
    }
   ],
   "source": [
    "sentences['In-Flight Entertainment'] = 0\n",
    "sentences['Food and Beverages'] = 0\n",
    "sentences['Cabin Service'] = 0\n",
    "sentences['Ground Service'] = 0\n",
    "sentences['Seat Comfort'] = 0\n",
    "sentences['Other'] = 0\n",
    "sentences.head()"
   ]
  },
  {
   "cell_type": "code",
   "execution_count": 81,
   "id": "77b35066",
   "metadata": {},
   "outputs": [],
   "source": [
    "for i in range(len(sentences)):\n",
    "    if any(substring in sentences['Sentence'][i] for substring in Other_keywords):\n",
    "        sentences['Other'][i] = 1\n",
    "        continue # If 1 assigned to 'Other', move to next sentence immediately\n",
    "    \n",
    "    if any(substring in sentences['Sentence'][i] for substring in IFE_keywords):\n",
    "        sentences['In-Flight Entertainment'][i] = 1\n",
    "        \n",
    "    if any(substring in sentences['Sentence'][i] for substring in FoodBev_keywords):\n",
    "        sentences['Food and Beverages'][i] = 1\n",
    "    \n",
    "    if any(substring in sentences['Sentence'][i] for substring in Seat_keywords):\n",
    "        sentences['Seat Comfort'][i] = 1\n",
    "     \n",
    "    if any(substring in sentences['Sentence'][i] for substring in Ground_keywords):\n",
    "        sentences['Ground Service'][i] = 1\n",
    "        continue # If 1 assigned to 'Ground Service', skip cabin service (because 'staff' and 'crew' keywords)\n",
    "        \n",
    "    if any(substring in sentences['Sentence'][i] for substring in Cabin_keywords):\n",
    "        sentences['Cabin Service'][i] = 1\n",
    "\n",
    "    # Do not assign 1 to 'Other' if there is already a topic assigned\n",
    "    elif (sentences['In-Flight Entertainment'][i] + sentences['Food and Beverages'][i] + sentences['Cabin Service'][i] + sentences['Ground Service'][i] + sentences['Seat Comfort'][i]) == 0:\n",
    "        sentences['Other'][i] = 1\n",
    "    \n",
    "# replace the 5 if's with elif's to limit topic to 1 per sentence"
   ]
  },
  {
   "cell_type": "code",
   "execution_count": 82,
   "id": "3e7a2de3",
   "metadata": {},
   "outputs": [
    {
     "data": {
      "text/html": [
       "<div>\n",
       "<style scoped>\n",
       "    .dataframe tbody tr th:only-of-type {\n",
       "        vertical-align: middle;\n",
       "    }\n",
       "\n",
       "    .dataframe tbody tr th {\n",
       "        vertical-align: top;\n",
       "    }\n",
       "\n",
       "    .dataframe thead th {\n",
       "        text-align: right;\n",
       "    }\n",
       "</style>\n",
       "<table border=\"1\" class=\"dataframe\">\n",
       "  <thead>\n",
       "    <tr style=\"text-align: right;\">\n",
       "      <th></th>\n",
       "      <th>Airline</th>\n",
       "      <th>Cabin</th>\n",
       "      <th>Sentence</th>\n",
       "      <th>Weight</th>\n",
       "      <th>Polarity</th>\n",
       "      <th>In-Flight Entertainment</th>\n",
       "      <th>Food and Beverages</th>\n",
       "      <th>Cabin Service</th>\n",
       "      <th>Ground Service</th>\n",
       "      <th>Seat Comfort</th>\n",
       "      <th>Other</th>\n",
       "    </tr>\n",
       "  </thead>\n",
       "  <tbody>\n",
       "    <tr>\n",
       "      <th>631</th>\n",
       "      <td>Turkish Airlines</td>\n",
       "      <td>Business Class</td>\n",
       "      <td>flying with tk is a good start of the vacatio...</td>\n",
       "      <td>0.142857</td>\n",
       "      <td>0.4404</td>\n",
       "      <td>0</td>\n",
       "      <td>1</td>\n",
       "      <td>0</td>\n",
       "      <td>0</td>\n",
       "      <td>0</td>\n",
       "      <td>0</td>\n",
       "    </tr>\n",
       "    <tr>\n",
       "      <th>632</th>\n",
       "      <td>Turkish Airlines</td>\n",
       "      <td>Business Class</td>\n",
       "      <td>this trip started with a nearly empty business...</td>\n",
       "      <td>0.142857</td>\n",
       "      <td>-0.2023</td>\n",
       "      <td>0</td>\n",
       "      <td>0</td>\n",
       "      <td>0</td>\n",
       "      <td>0</td>\n",
       "      <td>0</td>\n",
       "      <td>1</td>\n",
       "    </tr>\n",
       "    <tr>\n",
       "      <th>633</th>\n",
       "      <td>Turkish Airlines</td>\n",
       "      <td>Business Class</td>\n",
       "      <td>the lounge in istanbul is huge with a lot of d...</td>\n",
       "      <td>0.142857</td>\n",
       "      <td>0.3182</td>\n",
       "      <td>0</td>\n",
       "      <td>0</td>\n",
       "      <td>0</td>\n",
       "      <td>1</td>\n",
       "      <td>0</td>\n",
       "      <td>0</td>\n",
       "    </tr>\n",
       "    <tr>\n",
       "      <th>634</th>\n",
       "      <td>Turkish Airlines</td>\n",
       "      <td>Business Class</td>\n",
       "      <td>the flight to bangkok in a full business class...</td>\n",
       "      <td>0.142857</td>\n",
       "      <td>0.4754</td>\n",
       "      <td>0</td>\n",
       "      <td>0</td>\n",
       "      <td>0</td>\n",
       "      <td>0</td>\n",
       "      <td>0</td>\n",
       "      <td>1</td>\n",
       "    </tr>\n",
       "    <tr>\n",
       "      <th>635</th>\n",
       "      <td>Turkish Airlines</td>\n",
       "      <td>Business Class</td>\n",
       "      <td>we started with a glass of champagne and then ...</td>\n",
       "      <td>0.142857</td>\n",
       "      <td>0.2960</td>\n",
       "      <td>0</td>\n",
       "      <td>1</td>\n",
       "      <td>0</td>\n",
       "      <td>0</td>\n",
       "      <td>0</td>\n",
       "      <td>0</td>\n",
       "    </tr>\n",
       "    <tr>\n",
       "      <th>636</th>\n",
       "      <td>Turkish Airlines</td>\n",
       "      <td>Business Class</td>\n",
       "      <td>everything went very smooth.</td>\n",
       "      <td>0.142857</td>\n",
       "      <td>0.0000</td>\n",
       "      <td>0</td>\n",
       "      <td>0</td>\n",
       "      <td>0</td>\n",
       "      <td>0</td>\n",
       "      <td>0</td>\n",
       "      <td>1</td>\n",
       "    </tr>\n",
       "    <tr>\n",
       "      <th>637</th>\n",
       "      <td>Turkish Airlines</td>\n",
       "      <td>Business Class</td>\n",
       "      <td>we received a fast track pass in bangkok to pa...</td>\n",
       "      <td>0.142857</td>\n",
       "      <td>0.3612</td>\n",
       "      <td>0</td>\n",
       "      <td>0</td>\n",
       "      <td>0</td>\n",
       "      <td>0</td>\n",
       "      <td>0</td>\n",
       "      <td>1</td>\n",
       "    </tr>\n",
       "    <tr>\n",
       "      <th>638</th>\n",
       "      <td>Turkish Airlines</td>\n",
       "      <td>Business Class</td>\n",
       "      <td>extremely disappointed with this pathetic air...</td>\n",
       "      <td>0.062500</td>\n",
       "      <td>-0.7960</td>\n",
       "      <td>0</td>\n",
       "      <td>0</td>\n",
       "      <td>0</td>\n",
       "      <td>0</td>\n",
       "      <td>0</td>\n",
       "      <td>1</td>\n",
       "    </tr>\n",
       "    <tr>\n",
       "      <th>639</th>\n",
       "      <td>Turkish Airlines</td>\n",
       "      <td>Business Class</td>\n",
       "      <td>lahore to istanbul the aircraft was a330-300.</td>\n",
       "      <td>0.062500</td>\n",
       "      <td>0.0000</td>\n",
       "      <td>0</td>\n",
       "      <td>0</td>\n",
       "      <td>0</td>\n",
       "      <td>0</td>\n",
       "      <td>0</td>\n",
       "      <td>1</td>\n",
       "    </tr>\n",
       "  </tbody>\n",
       "</table>\n",
       "</div>"
      ],
      "text/plain": [
       "              Airline           Cabin  \\\n",
       "631  Turkish Airlines  Business Class   \n",
       "632  Turkish Airlines  Business Class   \n",
       "633  Turkish Airlines  Business Class   \n",
       "634  Turkish Airlines  Business Class   \n",
       "635  Turkish Airlines  Business Class   \n",
       "636  Turkish Airlines  Business Class   \n",
       "637  Turkish Airlines  Business Class   \n",
       "638  Turkish Airlines  Business Class   \n",
       "639  Turkish Airlines  Business Class   \n",
       "\n",
       "                                              Sentence    Weight  Polarity  \\\n",
       "631   flying with tk is a good start of the vacatio...  0.142857    0.4404   \n",
       "632  this trip started with a nearly empty business...  0.142857   -0.2023   \n",
       "633  the lounge in istanbul is huge with a lot of d...  0.142857    0.3182   \n",
       "634  the flight to bangkok in a full business class...  0.142857    0.4754   \n",
       "635  we started with a glass of champagne and then ...  0.142857    0.2960   \n",
       "636                       everything went very smooth.  0.142857    0.0000   \n",
       "637  we received a fast track pass in bangkok to pa...  0.142857    0.3612   \n",
       "638   extremely disappointed with this pathetic air...  0.062500   -0.7960   \n",
       "639      lahore to istanbul the aircraft was a330-300.  0.062500    0.0000   \n",
       "\n",
       "     In-Flight Entertainment  Food and Beverages  Cabin Service  \\\n",
       "631                        0                   1              0   \n",
       "632                        0                   0              0   \n",
       "633                        0                   0              0   \n",
       "634                        0                   0              0   \n",
       "635                        0                   1              0   \n",
       "636                        0                   0              0   \n",
       "637                        0                   0              0   \n",
       "638                        0                   0              0   \n",
       "639                        0                   0              0   \n",
       "\n",
       "     Ground Service  Seat Comfort  Other  \n",
       "631               0             0      0  \n",
       "632               0             0      1  \n",
       "633               1             0      0  \n",
       "634               0             0      1  \n",
       "635               0             0      0  \n",
       "636               0             0      1  \n",
       "637               0             0      1  \n",
       "638               0             0      1  \n",
       "639               0             0      1  "
      ]
     },
     "execution_count": 82,
     "metadata": {},
     "output_type": "execute_result"
    }
   ],
   "source": [
    "sentences[631:640]"
   ]
  },
  {
   "cell_type": "code",
   "execution_count": 83,
   "id": "f2e7a0bb",
   "metadata": {},
   "outputs": [
    {
     "data": {
      "text/html": [
       "<div>\n",
       "<style scoped>\n",
       "    .dataframe tbody tr th:only-of-type {\n",
       "        vertical-align: middle;\n",
       "    }\n",
       "\n",
       "    .dataframe tbody tr th {\n",
       "        vertical-align: top;\n",
       "    }\n",
       "\n",
       "    .dataframe thead th {\n",
       "        text-align: right;\n",
       "    }\n",
       "</style>\n",
       "<table border=\"1\" class=\"dataframe\">\n",
       "  <thead>\n",
       "    <tr style=\"text-align: right;\">\n",
       "      <th></th>\n",
       "      <th>Airline</th>\n",
       "      <th>Cabin</th>\n",
       "      <th>Sentence</th>\n",
       "      <th>Weight</th>\n",
       "      <th>Polarity</th>\n",
       "      <th>In-Flight Entertainment</th>\n",
       "      <th>Food and Beverages</th>\n",
       "      <th>Cabin Service</th>\n",
       "      <th>Ground Service</th>\n",
       "      <th>Seat Comfort</th>\n",
       "      <th>Other</th>\n",
       "    </tr>\n",
       "  </thead>\n",
       "  <tbody>\n",
       "    <tr>\n",
       "      <th>43897</th>\n",
       "      <td>American Airlines</td>\n",
       "      <td>Economy Class</td>\n",
       "      <td>i got what i paid for, a basic flight that too...</td>\n",
       "      <td>0.142857</td>\n",
       "      <td>-0.5994</td>\n",
       "      <td>0</td>\n",
       "      <td>0</td>\n",
       "      <td>0</td>\n",
       "      <td>0</td>\n",
       "      <td>0</td>\n",
       "      <td>1</td>\n",
       "    </tr>\n",
       "    <tr>\n",
       "      <th>180761</th>\n",
       "      <td>Frontier Airlines</td>\n",
       "      <td>Economy Class</td>\n",
       "      <td>the alcohol list was sad.</td>\n",
       "      <td>0.026316</td>\n",
       "      <td>-0.4767</td>\n",
       "      <td>0</td>\n",
       "      <td>1</td>\n",
       "      <td>0</td>\n",
       "      <td>0</td>\n",
       "      <td>0</td>\n",
       "      <td>0</td>\n",
       "    </tr>\n",
       "    <tr>\n",
       "      <th>173445</th>\n",
       "      <td>Spirit Airlines</td>\n",
       "      <td>Economy Class</td>\n",
       "      <td>so, bottom line, if you think a free voucher i...</td>\n",
       "      <td>0.071429</td>\n",
       "      <td>0.7650</td>\n",
       "      <td>0</td>\n",
       "      <td>0</td>\n",
       "      <td>0</td>\n",
       "      <td>0</td>\n",
       "      <td>0</td>\n",
       "      <td>1</td>\n",
       "    </tr>\n",
       "    <tr>\n",
       "      <th>116916</th>\n",
       "      <td>LATAM Airlines</td>\n",
       "      <td>Economy Class</td>\n",
       "      <td>nothing great about this airline.</td>\n",
       "      <td>0.100000</td>\n",
       "      <td>-0.5096</td>\n",
       "      <td>0</td>\n",
       "      <td>0</td>\n",
       "      <td>0</td>\n",
       "      <td>0</td>\n",
       "      <td>0</td>\n",
       "      <td>1</td>\n",
       "    </tr>\n",
       "    <tr>\n",
       "      <th>172915</th>\n",
       "      <td>Spirit Airlines</td>\n",
       "      <td>Economy Class</td>\n",
       "      <td>we had one lay over there, and one on the way ...</td>\n",
       "      <td>0.071429</td>\n",
       "      <td>0.0000</td>\n",
       "      <td>0</td>\n",
       "      <td>0</td>\n",
       "      <td>0</td>\n",
       "      <td>0</td>\n",
       "      <td>0</td>\n",
       "      <td>1</td>\n",
       "    </tr>\n",
       "  </tbody>\n",
       "</table>\n",
       "</div>"
      ],
      "text/plain": [
       "                  Airline          Cabin  \\\n",
       "43897   American Airlines  Economy Class   \n",
       "180761  Frontier Airlines  Economy Class   \n",
       "173445    Spirit Airlines  Economy Class   \n",
       "116916     LATAM Airlines  Economy Class   \n",
       "172915    Spirit Airlines  Economy Class   \n",
       "\n",
       "                                                 Sentence    Weight  Polarity  \\\n",
       "43897   i got what i paid for, a basic flight that too...  0.142857   -0.5994   \n",
       "180761                          the alcohol list was sad.  0.026316   -0.4767   \n",
       "173445  so, bottom line, if you think a free voucher i...  0.071429    0.7650   \n",
       "116916                  nothing great about this airline.  0.100000   -0.5096   \n",
       "172915  we had one lay over there, and one on the way ...  0.071429    0.0000   \n",
       "\n",
       "        In-Flight Entertainment  Food and Beverages  Cabin Service  \\\n",
       "43897                         0                   0              0   \n",
       "180761                        0                   1              0   \n",
       "173445                        0                   0              0   \n",
       "116916                        0                   0              0   \n",
       "172915                        0                   0              0   \n",
       "\n",
       "        Ground Service  Seat Comfort  Other  \n",
       "43897                0             0      1  \n",
       "180761               0             0      0  \n",
       "173445               0             0      1  \n",
       "116916               0             0      1  \n",
       "172915               0             0      1  "
      ]
     },
     "execution_count": 83,
     "metadata": {},
     "output_type": "execute_result"
    }
   ],
   "source": [
    "sentences.sample(5)"
   ]
  },
  {
   "cell_type": "code",
   "execution_count": 84,
   "id": "17b81f23",
   "metadata": {},
   "outputs": [],
   "source": [
    "testplot1 = sentences[(sentences['Food and Beverages'] == 1) & (sentences['Polarity'] != 0.0) & (sentences['Airline'] == 'Cathay Pacific Airways')]\n",
    "testplot2 = sentences[(sentences['Food and Beverages'] == 1) & (sentences['Polarity'] != 0.0) & (sentences['Airline'] == 'Garuda Indonesia')]"
   ]
  },
  {
   "cell_type": "code",
   "execution_count": 85,
   "id": "8f906414",
   "metadata": {},
   "outputs": [
    {
     "data": {
      "text/plain": [
       "<matplotlib.legend.Legend at 0x188f59723b0>"
      ]
     },
     "execution_count": 85,
     "metadata": {},
     "output_type": "execute_result"
    },
    {
     "data": {
      "image/png": "[encoded data removed]",
      "text/plain": [
       "<Figure size 640x480 with 1 Axes>"
      ]
     },
     "metadata": {},
     "output_type": "display_data"
    }
   ],
   "source": [
    "sns.distplot(testplot1['Polarity'], bins=12, label = 'Cathay Pacific Airways').set(title='Polarity Distribution - Food and Beverages')\n",
    "sns.distplot(testplot2['Polarity'], bins=12, label = 'Garuda Indonesia').set(title='Polarity Distribution - Food and Beverages')\n",
    "plt.xlim(-1, 1)\n",
    "plt.legend(title='Airline')"
   ]
  },
  {
   "cell_type": "code",
   "execution_count": 86,
   "id": "c2239c24",
   "metadata": {},
   "outputs": [],
   "source": [
    "#sentences.to_excel(r\"C:\\Users\\mark7\\OneDrive\\Documenten\\Bachelor Project\\Sentences and Topics.xlsx\")"
   ]
  },
  {
   "cell_type": "code",
   "execution_count": 87,
   "id": "1ce7d6bf",
   "metadata": {},
   "outputs": [
    {
     "data": {
      "text/plain": [
       "(135957, 196902)"
      ]
     },
     "execution_count": 87,
     "metadata": {},
     "output_type": "execute_result"
    }
   ],
   "source": [
    "len(sentences[sentences['Polarity'] != 0.0]), len(sentences)"
   ]
  },
  {
   "cell_type": "markdown",
   "id": "7d619b3d",
   "metadata": {},
   "source": [
    "# 6 Polarity Update"
   ]
  },
  {
   "cell_type": "markdown",
   "id": "af28141b",
   "metadata": {},
   "source": [
    "Testing out additional NLP models to improve polarity ratings"
   ]
  },
  {
   "cell_type": "code",
   "execution_count": 88,
   "id": "3d3fff7b",
   "metadata": {},
   "outputs": [
    {
     "data": {
      "text/plain": [
       "0     before we even left ba changed our seats to a ...\n",
       "1     i paid $1,500 for the joy of flying with air e...\n",
       "2                                 ife was very limited.\n",
       "3     online check-in process is straight-forward, w...\n",
       "4        i've emailed etihad to investigate the matter.\n",
       "                            ...                        \n",
       "95     first they forgot our luggage on our way ther...\n",
       "96        it was tasteful and good for a 50 min flight.\n",
       "97    etihad sit somewhere between a budget airline ...\n",
       "98    the new thales entertainment system was intuit...\n",
       "99    because of these errors on their part, we miss...\n",
       "Name: Sentence, Length: 100, dtype: object"
      ]
     },
     "execution_count": 88,
     "metadata": {},
     "output_type": "execute_result"
    }
   ],
   "source": [
    "pol_sents = test_sents['Sentence'].copy()\n",
    "pol_sents"
   ]
  },
  {
   "cell_type": "code",
   "execution_count": 89,
   "id": "d9f19ee0",
   "metadata": {},
   "outputs": [],
   "source": [
    "from flair.models import TextClassifier\n",
    "from flair.data import Sentence\n",
    "import torch\n",
    "from torch.nn.functional import normalize\n",
    "\n",
    "import torch.nn.functional as F"
   ]
  },
  {
   "cell_type": "markdown",
   "id": "6e967470",
   "metadata": {},
   "source": [
    "## Trying BERT"
   ]
  },
  {
   "cell_type": "code",
   "execution_count": 90,
   "id": "3d99ba4a",
   "metadata": {},
   "outputs": [],
   "source": [
    "from transformers import AutoTokenizer, AutoModelForSequenceClassification\n",
    "tokenizer = AutoTokenizer.from_pretrained(\"nlptown/bert-base-multilingual-uncased-sentiment\")\n",
    "model = AutoModelForSequenceClassification.from_pretrained(\"nlptown/bert-base-multilingual-uncased-sentiment\")"
   ]
  },
  {
   "cell_type": "code",
   "execution_count": 91,
   "id": "08a07830",
   "metadata": {},
   "outputs": [
    {
     "data": {
      "text/plain": [
       "'i paid $1,500 for the joy of flying with air europa as there is a very limited choice of airlines from which to choose on the caracas to madrid route.'"
      ]
     },
     "execution_count": 91,
     "metadata": {},
     "output_type": "execute_result"
    }
   ],
   "source": [
    "pol_sents[1]"
   ]
  },
  {
   "cell_type": "code",
   "execution_count": 92,
   "id": "2d1ccaa9",
   "metadata": {},
   "outputs": [
    {
     "data": {
      "text/plain": [
       "[0.21210838854312897,\n",
       " 0.2293224334716797,\n",
       " 0.22810864448547363,\n",
       " 0.19040876626968384,\n",
       " 0.14005181193351746]"
      ]
     },
     "execution_count": 92,
     "metadata": {},
     "output_type": "execute_result"
    }
   ],
   "source": [
    "def sentiment_analysis(review):\n",
    "    tokens = tokenizer.encode(review, return_tensors='pt')\n",
    "    result = model(tokens)\n",
    "    prob_result = F.softmax(result.logits, dim=-1)\n",
    "    return prob_result.tolist()[0]\n",
    "\n",
    "testlist = sentiment_analysis(pol_sents[1])\n",
    "testlist"
   ]
  },
  {
   "cell_type": "code",
   "execution_count": 93,
   "id": "8a941370",
   "metadata": {},
   "outputs": [
    {
     "data": {
      "text/plain": [
       "2.816973313689232"
      ]
     },
     "execution_count": 93,
     "metadata": {},
     "output_type": "execute_result"
    }
   ],
   "source": [
    "def compound_score(list):\n",
    "    score = 1*list[0] + 2*list[1] + 3*list[2] + 4*list[3] + 5*list[4]\n",
    "    return score\n",
    "\n",
    "compound_score(testlist)"
   ]
  },
  {
   "cell_type": "code",
   "execution_count": 94,
   "id": "25732c91",
   "metadata": {},
   "outputs": [
    {
     "data": {
      "text/plain": [
       "[2.122955597937107,\n",
       " 2.816973313689232,\n",
       " 2.4047302808612585,\n",
       " 3.4538238551467657,\n",
       " 2.430215820670128,\n",
       " 2.3960964530706406,\n",
       " 2.709491491317749,\n",
       " 1.8129599429666996,\n",
       " 2.9022540487349033,\n",
       " 3.442398801445961]"
      ]
     },
     "execution_count": 94,
     "metadata": {},
     "output_type": "execute_result"
    }
   ],
   "source": [
    "pol_scores = []\n",
    "for i in range(len(pol_sents)):\n",
    "    prob_list = sentiment_analysis(pol_sents[i])\n",
    "    score = compound_score(prob_list)\n",
    "    pol_scores.append(score)\n",
    "pol_scores[:10]"
   ]
  },
  {
   "cell_type": "code",
   "execution_count": 95,
   "id": "c97ed689",
   "metadata": {},
   "outputs": [
    {
     "data": {
      "text/plain": [
       "[-0.4596,\n",
       " -0.0626,\n",
       " -0.2984,\n",
       " 0.3017,\n",
       " -0.2838,\n",
       " -0.3033,\n",
       " -0.1241,\n",
       " -0.6369,\n",
       " -0.0138,\n",
       " 0.2951]"
      ]
     },
     "execution_count": 95,
     "metadata": {},
     "output_type": "execute_result"
    }
   ],
   "source": [
    "# scale list\n",
    "scaled_list = [round(2 * (x - min(pol_scores)) / (max(pol_scores) - min(pol_scores)) - 1, 4) for x in pol_scores]\n",
    "scaled_list[:10]"
   ]
  },
  {
   "cell_type": "code",
   "execution_count": 96,
   "id": "036437ec",
   "metadata": {},
   "outputs": [
    {
     "data": {
      "text/html": [
       "<div>\n",
       "<style scoped>\n",
       "    .dataframe tbody tr th:only-of-type {\n",
       "        vertical-align: middle;\n",
       "    }\n",
       "\n",
       "    .dataframe tbody tr th {\n",
       "        vertical-align: top;\n",
       "    }\n",
       "\n",
       "    .dataframe thead th {\n",
       "        text-align: right;\n",
       "    }\n",
       "</style>\n",
       "<table border=\"1\" class=\"dataframe\">\n",
       "  <thead>\n",
       "    <tr style=\"text-align: right;\">\n",
       "      <th></th>\n",
       "      <th>Sentence</th>\n",
       "      <th>Polarity</th>\n",
       "    </tr>\n",
       "  </thead>\n",
       "  <tbody>\n",
       "    <tr>\n",
       "      <th>0</th>\n",
       "      <td>before we even left ba changed our seats to a ...</td>\n",
       "      <td>-0.4596</td>\n",
       "    </tr>\n",
       "    <tr>\n",
       "      <th>1</th>\n",
       "      <td>i paid $1,500 for the joy of flying with air e...</td>\n",
       "      <td>-0.0626</td>\n",
       "    </tr>\n",
       "    <tr>\n",
       "      <th>2</th>\n",
       "      <td>ife was very limited.</td>\n",
       "      <td>-0.2984</td>\n",
       "    </tr>\n",
       "    <tr>\n",
       "      <th>3</th>\n",
       "      <td>online check-in process is straight-forward, w...</td>\n",
       "      <td>0.3017</td>\n",
       "    </tr>\n",
       "    <tr>\n",
       "      <th>4</th>\n",
       "      <td>i've emailed etihad to investigate the matter.</td>\n",
       "      <td>-0.2838</td>\n",
       "    </tr>\n",
       "    <tr>\n",
       "      <th>5</th>\n",
       "      <td>the following hours included: me waiting in li...</td>\n",
       "      <td>-0.3033</td>\n",
       "    </tr>\n",
       "    <tr>\n",
       "      <th>6</th>\n",
       "      <td>to top things off even though you've spent tho...</td>\n",
       "      <td>-0.1241</td>\n",
       "    </tr>\n",
       "    <tr>\n",
       "      <th>7</th>\n",
       "      <td>our plane was delayed due to weather fair enou...</td>\n",
       "      <td>-0.6369</td>\n",
       "    </tr>\n",
       "    <tr>\n",
       "      <th>8</th>\n",
       "      <td>english skills of cabin crew need to be improved.</td>\n",
       "      <td>-0.0138</td>\n",
       "    </tr>\n",
       "    <tr>\n",
       "      <th>9</th>\n",
       "      <td>the express pass led me to security screening ...</td>\n",
       "      <td>0.2951</td>\n",
       "    </tr>\n",
       "    <tr>\n",
       "      <th>10</th>\n",
       "      <td>disaster of a plane.</td>\n",
       "      <td>-0.8845</td>\n",
       "    </tr>\n",
       "    <tr>\n",
       "      <th>11</th>\n",
       "      <td>it's the seat with crew escape in front of it.</td>\n",
       "      <td>0.3795</td>\n",
       "    </tr>\n",
       "    <tr>\n",
       "      <th>12</th>\n",
       "      <td>but after selecting a movie and pressing watch...</td>\n",
       "      <td>0.3586</td>\n",
       "    </tr>\n",
       "    <tr>\n",
       "      <th>13</th>\n",
       "      <td>i had an a330 from sydney to guangzhou, and e...</td>\n",
       "      <td>0.2643</td>\n",
       "    </tr>\n",
       "    <tr>\n",
       "      <th>14</th>\n",
       "      <td>we waited about 45 minutes in the hotel recept...</td>\n",
       "      <td>-0.8416</td>\n",
       "    </tr>\n",
       "    <tr>\n",
       "      <th>15</th>\n",
       "      <td>i flew from abu dhabi to amman on an a320 air...</td>\n",
       "      <td>0.8292</td>\n",
       "    </tr>\n",
       "    <tr>\n",
       "      <th>16</th>\n",
       "      <td>moreover, they offer free limo service in ever...</td>\n",
       "      <td>0.7156</td>\n",
       "    </tr>\n",
       "    <tr>\n",
       "      <th>17</th>\n",
       "      <td>i remember using this seat type back in 2002, ...</td>\n",
       "      <td>-0.4261</td>\n",
       "    </tr>\n",
       "    <tr>\n",
       "      <th>18</th>\n",
       "      <td>you can generate your proper boarding pass via...</td>\n",
       "      <td>0.7372</td>\n",
       "    </tr>\n",
       "    <tr>\n",
       "      <th>19</th>\n",
       "      <td>their website is a broken mess.</td>\n",
       "      <td>-0.7173</td>\n",
       "    </tr>\n",
       "  </tbody>\n",
       "</table>\n",
       "</div>"
      ],
      "text/plain": [
       "                                             Sentence  Polarity\n",
       "0   before we even left ba changed our seats to a ...   -0.4596\n",
       "1   i paid $1,500 for the joy of flying with air e...   -0.0626\n",
       "2                               ife was very limited.   -0.2984\n",
       "3   online check-in process is straight-forward, w...    0.3017\n",
       "4      i've emailed etihad to investigate the matter.   -0.2838\n",
       "5   the following hours included: me waiting in li...   -0.3033\n",
       "6   to top things off even though you've spent tho...   -0.1241\n",
       "7   our plane was delayed due to weather fair enou...   -0.6369\n",
       "8   english skills of cabin crew need to be improved.   -0.0138\n",
       "9   the express pass led me to security screening ...    0.2951\n",
       "10                               disaster of a plane.   -0.8845\n",
       "11     it's the seat with crew escape in front of it.    0.3795\n",
       "12  but after selecting a movie and pressing watch...    0.3586\n",
       "13   i had an a330 from sydney to guangzhou, and e...    0.2643\n",
       "14  we waited about 45 minutes in the hotel recept...   -0.8416\n",
       "15   i flew from abu dhabi to amman on an a320 air...    0.8292\n",
       "16  moreover, they offer free limo service in ever...    0.7156\n",
       "17  i remember using this seat type back in 2002, ...   -0.4261\n",
       "18  you can generate your proper boarding pass via...    0.7372\n",
       "19                    their website is a broken mess.   -0.7173"
      ]
     },
     "execution_count": 96,
     "metadata": {},
     "output_type": "execute_result"
    }
   ],
   "source": [
    "pol_update = pd.DataFrame(zip(pol_sents, scaled_list), columns=['Sentence', 'Polarity'])\n",
    "pol_update.head(n=20)"
   ]
  },
  {
   "cell_type": "markdown",
   "id": "f723344a",
   "metadata": {},
   "source": [
    "# Works Great :)\n",
    "# Now Apply this to the entire dataset!"
   ]
  },
  {
   "cell_type": "code",
   "execution_count": 97,
   "id": "28673159",
   "metadata": {},
   "outputs": [
    {
     "data": {
      "text/plain": [
       "Airline                                             KLM Royal Dutch Airlines\n",
       "Cabin                                                          Economy Class\n",
       "Sentence                   the klm staff was very unhelpful and unapologe...\n",
       "Weight                                                                   0.1\n",
       "Polarity                                                                 0.0\n",
       "In-Flight Entertainment                                                    0\n",
       "Food and Beverages                                                         0\n",
       "Cabin Service                                                              1\n",
       "Ground Service                                                             0\n",
       "Seat Comfort                                                               0\n",
       "Other                                                                      0\n",
       "Name: 29531, dtype: object"
      ]
     },
     "execution_count": 97,
     "metadata": {},
     "output_type": "execute_result"
    }
   ],
   "source": [
    "sentences.iloc[29531]"
   ]
  },
  {
   "cell_type": "code",
   "execution_count": 98,
   "id": "1d193de8",
   "metadata": {},
   "outputs": [
    {
     "data": {
      "text/plain": [
       "(196902, 11)"
      ]
     },
     "execution_count": 98,
     "metadata": {},
     "output_type": "execute_result"
    }
   ],
   "source": [
    "sentences.shape"
   ]
  },
  {
   "cell_type": "code",
   "execution_count": 99,
   "id": "bbf7599d",
   "metadata": {},
   "outputs": [],
   "source": [
    "from tqdm import tqdm_notebook as tqdm"
   ]
  },
  {
   "cell_type": "code",
   "execution_count": 100,
   "id": "f85eaf0d",
   "metadata": {},
   "outputs": [],
   "source": [
    "#bert_scores = []"
   ]
  },
  {
   "cell_type": "code",
   "execution_count": 101,
   "id": "735d18d4",
   "metadata": {},
   "outputs": [],
   "source": [
    "# for i in tqdm(range(len(sentences))):\n",
    "#     prob_list = sentiment_analysis(sentences['Sentence'].iloc[i])\n",
    "#     score = compound_score(prob_list)\n",
    "#     bert_scores.append(score)\n",
    "\n",
    "\n",
    "# bert_scores_df = pd.DataFrame(bert_scores)\n",
    "# bert_scores_df.to_excel(r\"C:\\Users\\mark7\\OneDrive\\Documenten\\Bachelor Project\\BERT scores\\BERT scores.xlsx\")\n",
    "\n",
    "# bert_scores[:20]"
   ]
  },
  {
   "cell_type": "code",
   "execution_count": 102,
   "id": "d9eda55e",
   "metadata": {},
   "outputs": [
    {
     "ename": "NameError",
     "evalue": "name 'bert_scores' is not defined",
     "output_type": "error",
     "traceback": [
      "\u001b[1;31m---------------------------------------------------------------------------\u001b[0m",
      "\u001b[1;31mNameError\u001b[0m                                 Traceback (most recent call last)",
      "Cell \u001b[1;32mIn[102], line 1\u001b[0m\n\u001b[1;32m----> 1\u001b[0m \u001b[43mbert_scores\u001b[49m[:\u001b[38;5;241m20\u001b[39m]\n",
      "\u001b[1;31mNameError\u001b[0m: name 'bert_scores' is not defined"
     ]
    }
   ],
   "source": [
    "#bert_scores[:20]"
   ]
  },
  {
   "cell_type": "code",
   "execution_count": 103,
   "id": "518364f7",
   "metadata": {},
   "outputs": [
    {
     "data": {
      "text/plain": [
       "[0.6138346791267395,\n",
       " 0.3400612771511078,\n",
       " 0.04204213246703148,\n",
       " 0.0028921235352754593,\n",
       " 0.0011697666486725211]"
      ]
     },
     "execution_count": 103,
     "metadata": {},
     "output_type": "execute_result"
    }
   ],
   "source": [
    "sentiment_analysis(sentences['Sentence'].iloc[29531])"
   ]
  },
  {
   "cell_type": "code",
   "execution_count": 104,
   "id": "6377cef8",
   "metadata": {},
   "outputs": [],
   "source": [
    "bert_scores = pd.read_excel(r\"C:\\Users\\mark7\\OneDrive\\Documenten\\Bachelor Project\\BERT scores\\BERT scores.xlsx\")"
   ]
  },
  {
   "cell_type": "code",
   "execution_count": 108,
   "id": "c1545e76",
   "metadata": {},
   "outputs": [],
   "source": [
    "bert_scores = bert_scores.drop('Unnamed: 0', axis=1)"
   ]
  },
  {
   "cell_type": "code",
   "execution_count": 109,
   "id": "a69d80bf",
   "metadata": {},
   "outputs": [
    {
     "data": {
      "text/html": [
       "<div>\n",
       "<style scoped>\n",
       "    .dataframe tbody tr th:only-of-type {\n",
       "        vertical-align: middle;\n",
       "    }\n",
       "\n",
       "    .dataframe tbody tr th {\n",
       "        vertical-align: top;\n",
       "    }\n",
       "\n",
       "    .dataframe thead th {\n",
       "        text-align: right;\n",
       "    }\n",
       "</style>\n",
       "<table border=\"1\" class=\"dataframe\">\n",
       "  <thead>\n",
       "    <tr style=\"text-align: right;\">\n",
       "      <th></th>\n",
       "      <th>score</th>\n",
       "    </tr>\n",
       "  </thead>\n",
       "  <tbody>\n",
       "    <tr>\n",
       "      <th>0</th>\n",
       "      <td>2.681154</td>\n",
       "    </tr>\n",
       "    <tr>\n",
       "      <th>1</th>\n",
       "      <td>4.622979</td>\n",
       "    </tr>\n",
       "    <tr>\n",
       "      <th>2</th>\n",
       "      <td>2.281883</td>\n",
       "    </tr>\n",
       "    <tr>\n",
       "      <th>3</th>\n",
       "      <td>1.888776</td>\n",
       "    </tr>\n",
       "    <tr>\n",
       "      <th>4</th>\n",
       "      <td>2.120232</td>\n",
       "    </tr>\n",
       "  </tbody>\n",
       "</table>\n",
       "</div>"
      ],
      "text/plain": [
       "      score\n",
       "0  2.681154\n",
       "1  4.622979\n",
       "2  2.281883\n",
       "3  1.888776\n",
       "4  2.120232"
      ]
     },
     "execution_count": 109,
     "metadata": {},
     "output_type": "execute_result"
    }
   ],
   "source": [
    "bert_scores.columns = ['score']\n",
    "bert_scores.head()"
   ]
  },
  {
   "cell_type": "code",
   "execution_count": 110,
   "id": "9cd8cf15",
   "metadata": {},
   "outputs": [],
   "source": [
    "bert_list = bert_scores['score'].tolist()"
   ]
  },
  {
   "cell_type": "code",
   "execution_count": 371,
   "id": "e1236751",
   "metadata": {},
   "outputs": [
    {
     "data": {
      "text/plain": [
       "4.674382937140763"
      ]
     },
     "execution_count": 371,
     "metadata": {},
     "output_type": "execute_result"
    }
   ],
   "source": [
    "bert_list[29531]"
   ]
  },
  {
   "cell_type": "code",
   "execution_count": 111,
   "id": "c9ce3552",
   "metadata": {},
   "outputs": [
    {
     "data": {
      "text/plain": [
       "1.437500958214514"
      ]
     },
     "execution_count": 111,
     "metadata": {},
     "output_type": "execute_result"
    }
   ],
   "source": [
    "bert_list[29531]"
   ]
  },
  {
   "cell_type": "code",
   "execution_count": 373,
   "id": "27dad3ae",
   "metadata": {},
   "outputs": [
    {
     "data": {
      "text/plain": [
       "score    4.674383\n",
       "Name: 29531, dtype: float64"
      ]
     },
     "execution_count": 373,
     "metadata": {},
     "output_type": "execute_result"
    }
   ],
   "source": [
    "bert_scores.iloc[29531]"
   ]
  },
  {
   "cell_type": "code",
   "execution_count": 113,
   "id": "01d08a0b",
   "metadata": {},
   "outputs": [
    {
     "data": {
      "text/plain": [
       "[-0.4082, -0.7864]"
      ]
     },
     "execution_count": 113,
     "metadata": {},
     "output_type": "execute_result"
    }
   ],
   "source": []
  },
  {
   "cell_type": "code",
   "execution_count": 112,
   "id": "ee214a30",
   "metadata": {},
   "outputs": [],
   "source": [
    "min_lst = min(bert_list)\n",
    "max_lst = max(bert_list)\n",
    "\n",
    "# scale list\n",
    "scaled_bert_list = [round(2 * (x - min_lst) / (max_lst - min_lst) - 1, 4) for x in bert_list]"
   ]
  },
  {
   "cell_type": "code",
   "execution_count": 114,
   "id": "2bf789d9",
   "metadata": {},
   "outputs": [],
   "source": [
    "sentences.insert(loc=5, column='BERT Polarity', value=scaled_bert_list)"
   ]
  },
  {
   "cell_type": "code",
   "execution_count": 115,
   "id": "2026b481",
   "metadata": {},
   "outputs": [],
   "source": [
    "sentences.rename(columns={'Polarity':'VADER Polarity'}, inplace = True)"
   ]
  },
  {
   "cell_type": "code",
   "execution_count": 116,
   "id": "1f1ffd5c",
   "metadata": {},
   "outputs": [
    {
     "data": {
      "text/html": [
       "<div>\n",
       "<style scoped>\n",
       "    .dataframe tbody tr th:only-of-type {\n",
       "        vertical-align: middle;\n",
       "    }\n",
       "\n",
       "    .dataframe tbody tr th {\n",
       "        vertical-align: top;\n",
       "    }\n",
       "\n",
       "    .dataframe thead th {\n",
       "        text-align: right;\n",
       "    }\n",
       "</style>\n",
       "<table border=\"1\" class=\"dataframe\">\n",
       "  <thead>\n",
       "    <tr style=\"text-align: right;\">\n",
       "      <th></th>\n",
       "      <th>Airline</th>\n",
       "      <th>Cabin</th>\n",
       "      <th>Sentence</th>\n",
       "      <th>Weight</th>\n",
       "      <th>VADER Polarity</th>\n",
       "      <th>BERT Polarity</th>\n",
       "      <th>In-Flight Entertainment</th>\n",
       "      <th>Food and Beverages</th>\n",
       "      <th>Cabin Service</th>\n",
       "      <th>Ground Service</th>\n",
       "      <th>Seat Comfort</th>\n",
       "      <th>Other</th>\n",
       "    </tr>\n",
       "  </thead>\n",
       "  <tbody>\n",
       "    <tr>\n",
       "      <th>0</th>\n",
       "      <td>Turkish Airlines</td>\n",
       "      <td>Economy Class</td>\n",
       "      <td>first time i'd flown tk.</td>\n",
       "      <td>0.1</td>\n",
       "      <td>0.0000</td>\n",
       "      <td>-0.1606</td>\n",
       "      <td>0</td>\n",
       "      <td>0</td>\n",
       "      <td>0</td>\n",
       "      <td>0</td>\n",
       "      <td>0</td>\n",
       "      <td>1</td>\n",
       "    </tr>\n",
       "    <tr>\n",
       "      <th>1</th>\n",
       "      <td>Turkish Airlines</td>\n",
       "      <td>Economy Class</td>\n",
       "      <td>i found them very good in the air, cabin crew,...</td>\n",
       "      <td>0.1</td>\n",
       "      <td>0.7420</td>\n",
       "      <td>0.8166</td>\n",
       "      <td>0</td>\n",
       "      <td>1</td>\n",
       "      <td>1</td>\n",
       "      <td>0</td>\n",
       "      <td>0</td>\n",
       "      <td>0</td>\n",
       "    </tr>\n",
       "    <tr>\n",
       "      <th>2</th>\n",
       "      <td>Turkish Airlines</td>\n",
       "      <td>Economy Class</td>\n",
       "      <td>not so great on the ground, ground staff, call...</td>\n",
       "      <td>0.1</td>\n",
       "      <td>-0.5440</td>\n",
       "      <td>-0.3615</td>\n",
       "      <td>0</td>\n",
       "      <td>0</td>\n",
       "      <td>0</td>\n",
       "      <td>1</td>\n",
       "      <td>0</td>\n",
       "      <td>0</td>\n",
       "    </tr>\n",
       "    <tr>\n",
       "      <th>3</th>\n",
       "      <td>Turkish Airlines</td>\n",
       "      <td>Economy Class</td>\n",
       "      <td>my flight from lhr was delayed so i missed the...</td>\n",
       "      <td>0.1</td>\n",
       "      <td>-0.5812</td>\n",
       "      <td>-0.5593</td>\n",
       "      <td>0</td>\n",
       "      <td>0</td>\n",
       "      <td>0</td>\n",
       "      <td>0</td>\n",
       "      <td>0</td>\n",
       "      <td>1</td>\n",
       "    </tr>\n",
       "    <tr>\n",
       "      <th>4</th>\n",
       "      <td>Turkish Airlines</td>\n",
       "      <td>Economy Class</td>\n",
       "      <td>most ground staff don't speak english, and i w...</td>\n",
       "      <td>0.1</td>\n",
       "      <td>-0.3400</td>\n",
       "      <td>-0.4428</td>\n",
       "      <td>0</td>\n",
       "      <td>0</td>\n",
       "      <td>0</td>\n",
       "      <td>1</td>\n",
       "      <td>0</td>\n",
       "      <td>0</td>\n",
       "    </tr>\n",
       "  </tbody>\n",
       "</table>\n",
       "</div>"
      ],
      "text/plain": [
       "            Airline          Cabin  \\\n",
       "0  Turkish Airlines  Economy Class   \n",
       "1  Turkish Airlines  Economy Class   \n",
       "2  Turkish Airlines  Economy Class   \n",
       "3  Turkish Airlines  Economy Class   \n",
       "4  Turkish Airlines  Economy Class   \n",
       "\n",
       "                                            Sentence  Weight  VADER Polarity  \\\n",
       "0                           first time i'd flown tk.     0.1          0.0000   \n",
       "1  i found them very good in the air, cabin crew,...     0.1          0.7420   \n",
       "2  not so great on the ground, ground staff, call...     0.1         -0.5440   \n",
       "3  my flight from lhr was delayed so i missed the...     0.1         -0.5812   \n",
       "4  most ground staff don't speak english, and i w...     0.1         -0.3400   \n",
       "\n",
       "   BERT Polarity  In-Flight Entertainment  Food and Beverages  Cabin Service  \\\n",
       "0        -0.1606                        0                   0              0   \n",
       "1         0.8166                        0                   1              1   \n",
       "2        -0.3615                        0                   0              0   \n",
       "3        -0.5593                        0                   0              0   \n",
       "4        -0.4428                        0                   0              0   \n",
       "\n",
       "   Ground Service  Seat Comfort  Other  \n",
       "0               0             0      1  \n",
       "1               0             0      0  \n",
       "2               1             0      0  \n",
       "3               0             0      1  \n",
       "4               1             0      0  "
      ]
     },
     "execution_count": 116,
     "metadata": {},
     "output_type": "execute_result"
    }
   ],
   "source": [
    "sentences.head()"
   ]
  },
  {
   "cell_type": "code",
   "execution_count": 117,
   "id": "7f4bd3f1",
   "metadata": {},
   "outputs": [],
   "source": [
    "testplot1 = sentences[(sentences['Food and Beverages'] == 1) & (sentences['VADER Polarity'] != 0.0) & (sentences['Airline'] == 'Cathay Pacific Airways')]\n",
    "testplot2 = sentences[(sentences['Food and Beverages'] == 1) & (sentences['VADER Polarity'] != 0.0) & (sentences['Airline'] == 'Garuda Indonesia')]"
   ]
  },
  {
   "cell_type": "code",
   "execution_count": 118,
   "id": "94296798",
   "metadata": {},
   "outputs": [
    {
     "data": {
      "text/plain": [
       "<matplotlib.legend.Legend at 0x188f5972260>"
      ]
     },
     "execution_count": 118,
     "metadata": {},
     "output_type": "execute_result"
    },
    {
     "data": {
      "image/png": "[encoded data removed]",
      "text/plain": [
       "<Figure size 640x480 with 1 Axes>"
      ]
     },
     "metadata": {},
     "output_type": "display_data"
    }
   ],
   "source": [
    "sns.distplot(testplot1['BERT Polarity'], bins=14, label = 'Cathay Pacific Airways').set(title='BERT Polarity Distribution - Food and Beverages')\n",
    "sns.distplot(testplot2['BERT Polarity'], bins=14, label = 'Garuda Indonesia').set(title='BERT Polarity Distribution - Food and Beverages')\n",
    "plt.xlim(-1, 1)\n",
    "plt.legend(title='Airline')"
   ]
  },
  {
   "cell_type": "code",
   "execution_count": 119,
   "id": "4094db5a",
   "metadata": {},
   "outputs": [
    {
     "data": {
      "text/plain": [
       "<matplotlib.legend.Legend at 0x189316591b0>"
      ]
     },
     "execution_count": 119,
     "metadata": {},
     "output_type": "execute_result"
    },
    {
     "data": {
      "image/png": "[encoded data removed]",
      "text/plain": [
       "<Figure size 640x480 with 1 Axes>"
      ]
     },
     "metadata": {},
     "output_type": "display_data"
    }
   ],
   "source": [
    "sns.distplot(testplot1['VADER Polarity'], bins=12, label = 'Cathay Pacific Airways').set(title='VADER Polarity Distribution - Food and Beverages')\n",
    "sns.distplot(testplot2['VADER Polarity'], bins=12, label = 'Garuda Indonesia').set(title='VADER Polarity Distribution - Food and Beverages')\n",
    "plt.xlim(-1, 1)\n",
    "plt.legend(title='Airline')"
   ]
  },
  {
   "cell_type": "code",
   "execution_count": 120,
   "id": "50b8643a",
   "metadata": {},
   "outputs": [
    {
     "data": {
      "text/html": [
       "<div>\n",
       "<style scoped>\n",
       "    .dataframe tbody tr th:only-of-type {\n",
       "        vertical-align: middle;\n",
       "    }\n",
       "\n",
       "    .dataframe tbody tr th {\n",
       "        vertical-align: top;\n",
       "    }\n",
       "\n",
       "    .dataframe thead th {\n",
       "        text-align: right;\n",
       "    }\n",
       "</style>\n",
       "<table border=\"1\" class=\"dataframe\">\n",
       "  <thead>\n",
       "    <tr style=\"text-align: right;\">\n",
       "      <th></th>\n",
       "      <th>Sentence</th>\n",
       "      <th>BERT Polarity</th>\n",
       "      <th>In-Flight Entertainment</th>\n",
       "      <th>Food and Beverages</th>\n",
       "      <th>Cabin Service</th>\n",
       "      <th>Ground Service</th>\n",
       "      <th>Seat Comfort</th>\n",
       "      <th>Other</th>\n",
       "    </tr>\n",
       "  </thead>\n",
       "  <tbody>\n",
       "    <tr>\n",
       "      <th>120860</th>\n",
       "      <td>i said i'd have both since dinner wasn't served.</td>\n",
       "      <td>-0.3354</td>\n",
       "      <td>0</td>\n",
       "      <td>1</td>\n",
       "      <td>0</td>\n",
       "      <td>0</td>\n",
       "      <td>0</td>\n",
       "      <td>0</td>\n",
       "    </tr>\n",
       "    <tr>\n",
       "      <th>195136</th>\n",
       "      <td>the only contact on the website is an email.</td>\n",
       "      <td>-0.0678</td>\n",
       "      <td>0</td>\n",
       "      <td>0</td>\n",
       "      <td>0</td>\n",
       "      <td>1</td>\n",
       "      <td>0</td>\n",
       "      <td>0</td>\n",
       "    </tr>\n",
       "    <tr>\n",
       "      <th>157858</th>\n",
       "      <td>when i booked possibly i was naã¯ve, the pric...</td>\n",
       "      <td>-0.0519</td>\n",
       "      <td>0</td>\n",
       "      <td>1</td>\n",
       "      <td>0</td>\n",
       "      <td>0</td>\n",
       "      <td>0</td>\n",
       "      <td>0</td>\n",
       "    </tr>\n",
       "    <tr>\n",
       "      <th>138918</th>\n",
       "      <td>the worst customer service experience ever!</td>\n",
       "      <td>-0.9741</td>\n",
       "      <td>0</td>\n",
       "      <td>0</td>\n",
       "      <td>0</td>\n",
       "      <td>1</td>\n",
       "      <td>0</td>\n",
       "      <td>0</td>\n",
       "    </tr>\n",
       "    <tr>\n",
       "      <th>11704</th>\n",
       "      <td>pre-departure drinks in cph offered but with s...</td>\n",
       "      <td>-0.0502</td>\n",
       "      <td>0</td>\n",
       "      <td>1</td>\n",
       "      <td>0</td>\n",
       "      <td>0</td>\n",
       "      <td>0</td>\n",
       "      <td>0</td>\n",
       "    </tr>\n",
       "  </tbody>\n",
       "</table>\n",
       "</div>"
      ],
      "text/plain": [
       "                                                 Sentence  BERT Polarity  \\\n",
       "120860   i said i'd have both since dinner wasn't served.        -0.3354   \n",
       "195136       the only contact on the website is an email.        -0.0678   \n",
       "157858   when i booked possibly i was naã¯ve, the pric...        -0.0519   \n",
       "138918        the worst customer service experience ever!        -0.9741   \n",
       "11704   pre-departure drinks in cph offered but with s...        -0.0502   \n",
       "\n",
       "        In-Flight Entertainment  Food and Beverages  Cabin Service  \\\n",
       "120860                        0                   1              0   \n",
       "195136                        0                   0              0   \n",
       "157858                        0                   1              0   \n",
       "138918                        0                   0              0   \n",
       "11704                         0                   1              0   \n",
       "\n",
       "        Ground Service  Seat Comfort  Other  \n",
       "120860               0             0      0  \n",
       "195136               1             0      0  \n",
       "157858               0             0      0  \n",
       "138918               1             0      0  \n",
       "11704                0             0      0  "
      ]
     },
     "execution_count": 120,
     "metadata": {},
     "output_type": "execute_result"
    }
   ],
   "source": [
    "acc_test = sentences.sample(100)\n",
    "acc_test = acc_test[['Sentence', 'BERT Polarity', 'In-Flight Entertainment', 'Food and Beverages', 'Cabin Service', 'Ground Service', 'Seat Comfort', 'Other']].copy()\n",
    "acc_test.head()"
   ]
  },
  {
   "cell_type": "code",
   "execution_count": 121,
   "id": "de2b96ae",
   "metadata": {},
   "outputs": [],
   "source": [
    "acc_test.to_excel(r\"C:\\Users\\mark7\\OneDrive\\Documenten\\Bachelor Project\\Acc Test 2.xlsx\")"
   ]
  },
  {
   "cell_type": "code",
   "execution_count": 122,
   "id": "50fbbe64",
   "metadata": {},
   "outputs": [],
   "source": [
    "testplot1 = sentences[(sentences['Food and Beverages'] == 1) & (sentences['Airline'] == 'Cathay Pacific Airways')]\n",
    "testplot2 = sentences[(sentences['Food and Beverages'] == 1) & (sentences['Airline'] == 'Garuda Indonesia')]"
   ]
  },
  {
   "cell_type": "code",
   "execution_count": 123,
   "id": "7aabc44e",
   "metadata": {},
   "outputs": [
    {
     "data": {
      "text/plain": [
       "<matplotlib.legend.Legend at 0x189317870d0>"
      ]
     },
     "execution_count": 123,
     "metadata": {},
     "output_type": "execute_result"
    },
    {
     "data": {
      "image/png": "[encoded data removed]",
      "text/plain": [
       "<Figure size 640x480 with 1 Axes>"
      ]
     },
     "metadata": {},
     "output_type": "display_data"
    }
   ],
   "source": [
    "sns.distplot(testplot1['VADER Polarity'], bins=12, label = 'Cathay Pacific Airways').set(title='VADER Polarity Distribution - Food and Beverages')\n",
    "sns.distplot(testplot2['VADER Polarity'], bins=12, label = 'Garuda Indonesia').set(title='VADER Polarity Distribution - Food and Beverages')\n",
    "plt.xlim(-1, 1)\n",
    "plt.legend(title='Airline')"
   ]
  },
  {
   "cell_type": "markdown",
   "id": "b4affcad",
   "metadata": {},
   "source": [
    "## New Classification Accuracy Test: 88,33% "
   ]
  },
  {
   "cell_type": "code",
   "execution_count": 345,
   "id": "86e383e2",
   "metadata": {},
   "outputs": [],
   "source": [
    "#sentences = sentences.drop('Polarity', axis=1)"
   ]
  },
  {
   "cell_type": "code",
   "execution_count": 158,
   "id": "d806ea4c",
   "metadata": {},
   "outputs": [],
   "source": [
    "#sentences.to_excel(r\"C:\\Users\\mark7\\OneDrive\\Documenten\\Bachelor Project\\Sentences and Topics.xlsx\")"
   ]
  },
  {
   "cell_type": "code",
   "execution_count": 174,
   "id": "c08d6408",
   "metadata": {},
   "outputs": [
    {
     "data": {
      "text/html": [
       "<div>\n",
       "<style scoped>\n",
       "    .dataframe tbody tr th:only-of-type {\n",
       "        vertical-align: middle;\n",
       "    }\n",
       "\n",
       "    .dataframe tbody tr th {\n",
       "        vertical-align: top;\n",
       "    }\n",
       "\n",
       "    .dataframe thead th {\n",
       "        text-align: right;\n",
       "    }\n",
       "</style>\n",
       "<table border=\"1\" class=\"dataframe\">\n",
       "  <thead>\n",
       "    <tr style=\"text-align: right;\">\n",
       "      <th></th>\n",
       "      <th>Airline</th>\n",
       "      <th>Cabin</th>\n",
       "      <th>Sentence</th>\n",
       "      <th>Weight</th>\n",
       "      <th>VADER Polarity</th>\n",
       "      <th>BERT Polarity</th>\n",
       "      <th>In-Flight Entertainment</th>\n",
       "      <th>Food and Beverages</th>\n",
       "      <th>Cabin Service</th>\n",
       "      <th>Ground Service</th>\n",
       "      <th>Seat Comfort</th>\n",
       "      <th>Other</th>\n",
       "    </tr>\n",
       "  </thead>\n",
       "  <tbody>\n",
       "    <tr>\n",
       "      <th>85957</th>\n",
       "      <td>British Airways</td>\n",
       "      <td>Business Class</td>\n",
       "      <td>must be terrible working for ba now knowing th...</td>\n",
       "      <td>0.100000</td>\n",
       "      <td>-0.7644</td>\n",
       "      <td>-0.9077</td>\n",
       "      <td>0</td>\n",
       "      <td>0</td>\n",
       "      <td>0</td>\n",
       "      <td>0</td>\n",
       "      <td>0</td>\n",
       "      <td>1</td>\n",
       "    </tr>\n",
       "    <tr>\n",
       "      <th>193036</th>\n",
       "      <td>Gulf Air</td>\n",
       "      <td>Economy Class</td>\n",
       "      <td>cabin service on all flights was nothing speci...</td>\n",
       "      <td>0.083333</td>\n",
       "      <td>-0.1603</td>\n",
       "      <td>0.0713</td>\n",
       "      <td>0</td>\n",
       "      <td>1</td>\n",
       "      <td>1</td>\n",
       "      <td>0</td>\n",
       "      <td>0</td>\n",
       "      <td>0</td>\n",
       "    </tr>\n",
       "    <tr>\n",
       "      <th>129311</th>\n",
       "      <td>Etihad Airways</td>\n",
       "      <td>Business Class</td>\n",
       "      <td>however, the second leg of our flight 12.5 hrs...</td>\n",
       "      <td>0.045455</td>\n",
       "      <td>-0.4404</td>\n",
       "      <td>-0.4289</td>\n",
       "      <td>0</td>\n",
       "      <td>0</td>\n",
       "      <td>0</td>\n",
       "      <td>0</td>\n",
       "      <td>0</td>\n",
       "      <td>1</td>\n",
       "    </tr>\n",
       "    <tr>\n",
       "      <th>13296</th>\n",
       "      <td>Qatar Airways</td>\n",
       "      <td>Business Class</td>\n",
       "      <td>food and beverages were of excellent quality t...</td>\n",
       "      <td>0.111111</td>\n",
       "      <td>0.5719</td>\n",
       "      <td>0.8326</td>\n",
       "      <td>0</td>\n",
       "      <td>1</td>\n",
       "      <td>0</td>\n",
       "      <td>1</td>\n",
       "      <td>0</td>\n",
       "      <td>0</td>\n",
       "    </tr>\n",
       "    <tr>\n",
       "      <th>87114</th>\n",
       "      <td>British Airways</td>\n",
       "      <td>Economy Class</td>\n",
       "      <td>absolutely atrocious customer service, lousy p...</td>\n",
       "      <td>0.047619</td>\n",
       "      <td>-0.5423</td>\n",
       "      <td>-0.9923</td>\n",
       "      <td>0</td>\n",
       "      <td>0</td>\n",
       "      <td>0</td>\n",
       "      <td>1</td>\n",
       "      <td>0</td>\n",
       "      <td>0</td>\n",
       "    </tr>\n",
       "  </tbody>\n",
       "</table>\n",
       "</div>"
      ],
      "text/plain": [
       "                Airline           Cabin  \\\n",
       "85957   British Airways  Business Class   \n",
       "193036         Gulf Air   Economy Class   \n",
       "129311   Etihad Airways  Business Class   \n",
       "13296     Qatar Airways  Business Class   \n",
       "87114   British Airways   Economy Class   \n",
       "\n",
       "                                                 Sentence    Weight  \\\n",
       "85957   must be terrible working for ba now knowing th...  0.100000   \n",
       "193036  cabin service on all flights was nothing speci...  0.083333   \n",
       "129311  however, the second leg of our flight 12.5 hrs...  0.045455   \n",
       "13296   food and beverages were of excellent quality t...  0.111111   \n",
       "87114   absolutely atrocious customer service, lousy p...  0.047619   \n",
       "\n",
       "        VADER Polarity  BERT Polarity  In-Flight Entertainment  \\\n",
       "85957          -0.7644        -0.9077                        0   \n",
       "193036         -0.1603         0.0713                        0   \n",
       "129311         -0.4404        -0.4289                        0   \n",
       "13296           0.5719         0.8326                        0   \n",
       "87114          -0.5423        -0.9923                        0   \n",
       "\n",
       "        Food and Beverages  Cabin Service  Ground Service  Seat Comfort  Other  \n",
       "85957                    0              0               0             0      1  \n",
       "193036                   1              1               0             0      0  \n",
       "129311                   0              0               0             0      1  \n",
       "13296                    1              0               1             0      0  \n",
       "87114                    0              0               1             0      0  "
      ]
     },
     "execution_count": 174,
     "metadata": {},
     "output_type": "execute_result"
    }
   ],
   "source": [
    "sentences.sample(5)"
   ]
  },
  {
   "cell_type": "code",
   "execution_count": 160,
   "id": "4a05e240",
   "metadata": {},
   "outputs": [
    {
     "data": {
      "text/plain": [
       "' lufthansa claims to have gate arrival/transfer assistance for first class passengers.'"
      ]
     },
     "execution_count": 160,
     "metadata": {},
     "output_type": "execute_result"
    }
   ],
   "source": [
    "sentences['Sentence'].iloc[24972]"
   ]
  },
  {
   "cell_type": "code",
   "execution_count": null,
   "id": "9da1711a",
   "metadata": {},
   "outputs": [],
   "source": []
  },
  {
   "cell_type": "code",
   "execution_count": null,
   "id": "a5fec18f",
   "metadata": {},
   "outputs": [],
   "source": []
  },
  {
   "cell_type": "code",
   "execution_count": null,
   "id": "c862f31e",
   "metadata": {},
   "outputs": [],
   "source": []
  },
  {
   "cell_type": "code",
   "execution_count": null,
   "id": "382c552a",
   "metadata": {},
   "outputs": [],
   "source": []
  },
  {
   "cell_type": "code",
   "execution_count": null,
   "id": "e0827da5",
   "metadata": {},
   "outputs": [],
   "source": []
  },
  {
   "cell_type": "code",
   "execution_count": null,
   "id": "6febbb6d",
   "metadata": {},
   "outputs": [],
   "source": []
  },
  {
   "cell_type": "code",
   "execution_count": null,
   "id": "8e6dffc5",
   "metadata": {},
   "outputs": [],
   "source": []
  },
  {
   "cell_type": "code",
   "execution_count": null,
   "id": "73f67f48",
   "metadata": {},
   "outputs": [],
   "source": []
  }
 ],
 "metadata": {
  "kernelspec": {
   "display_name": "Python 3 (ipykernel)",
   "language": "python",
   "name": "python3"
  },
  "language_info": {
   "codemirror_mode": {
    "name": "ipython",
    "version": 3
   },
   "file_extension": ".py",
   "mimetype": "text/x-python",
   "name": "python",
   "nbconvert_exporter": "python",
   "pygments_lexer": "ipython3",
   "version": "3.10.5"
  }
 },
 "nbformat": 4,
 "nbformat_minor": 5
}
